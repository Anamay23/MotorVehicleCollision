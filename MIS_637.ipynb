{
 "cells": [
  {
   "cell_type": "code",
   "execution_count": 1,
   "metadata": {
    "colab": {
     "base_uri": "https://localhost:8080/"
    },
    "id": "zwVItwOBg1DD",
    "outputId": "d7d20535-89a3-4ed7-ab6c-213b9e444192"
   },
   "outputs": [],
   "source": [
    "#Mount google drive\n",
    "\n",
    "#from google.colab import drive\n",
    "#drive.mount(\"/content/drive\")"
   ]
  },
  {
   "cell_type": "code",
   "execution_count": 2,
   "metadata": {},
   "outputs": [],
   "source": [
    "#pip install xgboost"
   ]
  },
  {
   "cell_type": "code",
   "execution_count": 3,
   "metadata": {
    "colab": {
     "base_uri": "https://localhost:8080/",
     "height": 444
    },
    "id": "gIBoHebKjMkj",
    "outputId": "8df49433-720a-4322-e486-d9ab42277278"
   },
   "outputs": [
    {
     "data": {
      "text/html": [
       "<div>\n",
       "<style scoped>\n",
       "    .dataframe tbody tr th:only-of-type {\n",
       "        vertical-align: middle;\n",
       "    }\n",
       "\n",
       "    .dataframe tbody tr th {\n",
       "        vertical-align: top;\n",
       "    }\n",
       "\n",
       "    .dataframe thead th {\n",
       "        text-align: right;\n",
       "    }\n",
       "</style>\n",
       "<table border=\"1\" class=\"dataframe\">\n",
       "  <thead>\n",
       "    <tr style=\"text-align: right;\">\n",
       "      <th></th>\n",
       "      <th>CRASH DATE</th>\n",
       "      <th>CRASH TIME</th>\n",
       "      <th>BOROUGH</th>\n",
       "      <th>ZIP CODE</th>\n",
       "      <th>ON STREET NAME</th>\n",
       "      <th>CROSS STREET NAME</th>\n",
       "      <th>NUMBER OF PERSONS INJURED</th>\n",
       "      <th>NUMBER OF PERSONS KILLED</th>\n",
       "      <th>NUMBER OF PEDESTRIANS INJURED</th>\n",
       "      <th>NUMBER OF PEDESTRIANS KILLED</th>\n",
       "      <th>NUMBER OF CYCLIST INJURED</th>\n",
       "      <th>NUMBER OF CYCLIST KILLED</th>\n",
       "      <th>NUMBER OF MOTORIST INJURED</th>\n",
       "      <th>NUMBER OF MOTORIST KILLED</th>\n",
       "      <th>CONTRIBUTING FACTOR VEHICLE 1</th>\n",
       "      <th>CONTRIBUTING FACTOR VEHICLE 2</th>\n",
       "      <th>COLLISION_ID</th>\n",
       "      <th>VEHICLE TYPE CODE 1</th>\n",
       "      <th>VEHICLE TYPE CODE 2</th>\n",
       "    </tr>\n",
       "  </thead>\n",
       "  <tbody>\n",
       "    <tr>\n",
       "      <th>0</th>\n",
       "      <td>09-11-2021</td>\n",
       "      <td>02:39</td>\n",
       "      <td>NaN</td>\n",
       "      <td>NaN</td>\n",
       "      <td>WHITESTONE EXPRESSWAY</td>\n",
       "      <td>20 AVENUE</td>\n",
       "      <td>2.0</td>\n",
       "      <td>0.0</td>\n",
       "      <td>0</td>\n",
       "      <td>0</td>\n",
       "      <td>0</td>\n",
       "      <td>0</td>\n",
       "      <td>2</td>\n",
       "      <td>0</td>\n",
       "      <td>Aggressive Driving/Road Rage</td>\n",
       "      <td>Unspecified</td>\n",
       "      <td>4455765</td>\n",
       "      <td>Sedan</td>\n",
       "      <td>Sedan</td>\n",
       "    </tr>\n",
       "    <tr>\n",
       "      <th>1</th>\n",
       "      <td>03/26/2022</td>\n",
       "      <td>11:45</td>\n",
       "      <td>NaN</td>\n",
       "      <td>NaN</td>\n",
       "      <td>QUEENSBORO BRIDGE UPPER</td>\n",
       "      <td>NaN</td>\n",
       "      <td>1.0</td>\n",
       "      <td>0.0</td>\n",
       "      <td>0</td>\n",
       "      <td>0</td>\n",
       "      <td>0</td>\n",
       "      <td>0</td>\n",
       "      <td>1</td>\n",
       "      <td>0</td>\n",
       "      <td>Pavement Slippery</td>\n",
       "      <td>NaN</td>\n",
       "      <td>4513547</td>\n",
       "      <td>Sedan</td>\n",
       "      <td>NaN</td>\n",
       "    </tr>\n",
       "    <tr>\n",
       "      <th>2</th>\n",
       "      <td>06/29/2022</td>\n",
       "      <td>06:55</td>\n",
       "      <td>NaN</td>\n",
       "      <td>NaN</td>\n",
       "      <td>THROGS NECK BRIDGE</td>\n",
       "      <td>NaN</td>\n",
       "      <td>0.0</td>\n",
       "      <td>0.0</td>\n",
       "      <td>0</td>\n",
       "      <td>0</td>\n",
       "      <td>0</td>\n",
       "      <td>0</td>\n",
       "      <td>0</td>\n",
       "      <td>0</td>\n",
       "      <td>Following Too Closely</td>\n",
       "      <td>Unspecified</td>\n",
       "      <td>4541903</td>\n",
       "      <td>Sedan</td>\n",
       "      <td>Pick-up Truck</td>\n",
       "    </tr>\n",
       "    <tr>\n",
       "      <th>3</th>\n",
       "      <td>09-11-2021</td>\n",
       "      <td>09:35</td>\n",
       "      <td>BROOKLYN</td>\n",
       "      <td>11208.0</td>\n",
       "      <td>NaN</td>\n",
       "      <td>NaN</td>\n",
       "      <td>0.0</td>\n",
       "      <td>0.0</td>\n",
       "      <td>0</td>\n",
       "      <td>0</td>\n",
       "      <td>0</td>\n",
       "      <td>0</td>\n",
       "      <td>0</td>\n",
       "      <td>0</td>\n",
       "      <td>Unspecified</td>\n",
       "      <td>NaN</td>\n",
       "      <td>4456314</td>\n",
       "      <td>Sedan</td>\n",
       "      <td>NaN</td>\n",
       "    </tr>\n",
       "    <tr>\n",
       "      <th>4</th>\n",
       "      <td>12/14/2021</td>\n",
       "      <td>08:13</td>\n",
       "      <td>BROOKLYN</td>\n",
       "      <td>11233.0</td>\n",
       "      <td>SARATOGA AVENUE</td>\n",
       "      <td>DECATUR STREET</td>\n",
       "      <td>0.0</td>\n",
       "      <td>0.0</td>\n",
       "      <td>0</td>\n",
       "      <td>0</td>\n",
       "      <td>0</td>\n",
       "      <td>0</td>\n",
       "      <td>0</td>\n",
       "      <td>0</td>\n",
       "      <td>NaN</td>\n",
       "      <td>NaN</td>\n",
       "      <td>4486609</td>\n",
       "      <td>NaN</td>\n",
       "      <td>NaN</td>\n",
       "    </tr>\n",
       "  </tbody>\n",
       "</table>\n",
       "</div>"
      ],
      "text/plain": [
       "   CRASH DATE CRASH TIME   BOROUGH  ZIP CODE           ON STREET NAME  \\\n",
       "0  09-11-2021      02:39       NaN       NaN    WHITESTONE EXPRESSWAY   \n",
       "1  03/26/2022      11:45       NaN       NaN  QUEENSBORO BRIDGE UPPER   \n",
       "2  06/29/2022      06:55       NaN       NaN       THROGS NECK BRIDGE   \n",
       "3  09-11-2021      09:35  BROOKLYN   11208.0                      NaN   \n",
       "4  12/14/2021      08:13  BROOKLYN   11233.0          SARATOGA AVENUE   \n",
       "\n",
       "  CROSS STREET NAME  NUMBER OF PERSONS INJURED  NUMBER OF PERSONS KILLED  \\\n",
       "0         20 AVENUE                        2.0                       0.0   \n",
       "1               NaN                        1.0                       0.0   \n",
       "2               NaN                        0.0                       0.0   \n",
       "3               NaN                        0.0                       0.0   \n",
       "4    DECATUR STREET                        0.0                       0.0   \n",
       "\n",
       "   NUMBER OF PEDESTRIANS INJURED  NUMBER OF PEDESTRIANS KILLED  \\\n",
       "0                              0                             0   \n",
       "1                              0                             0   \n",
       "2                              0                             0   \n",
       "3                              0                             0   \n",
       "4                              0                             0   \n",
       "\n",
       "   NUMBER OF CYCLIST INJURED  NUMBER OF CYCLIST KILLED  \\\n",
       "0                          0                         0   \n",
       "1                          0                         0   \n",
       "2                          0                         0   \n",
       "3                          0                         0   \n",
       "4                          0                         0   \n",
       "\n",
       "   NUMBER OF MOTORIST INJURED  NUMBER OF MOTORIST KILLED  \\\n",
       "0                           2                          0   \n",
       "1                           1                          0   \n",
       "2                           0                          0   \n",
       "3                           0                          0   \n",
       "4                           0                          0   \n",
       "\n",
       "  CONTRIBUTING FACTOR VEHICLE 1 CONTRIBUTING FACTOR VEHICLE 2  COLLISION_ID  \\\n",
       "0  Aggressive Driving/Road Rage                   Unspecified       4455765   \n",
       "1             Pavement Slippery                           NaN       4513547   \n",
       "2         Following Too Closely                   Unspecified       4541903   \n",
       "3                   Unspecified                           NaN       4456314   \n",
       "4                           NaN                           NaN       4486609   \n",
       "\n",
       "  VEHICLE TYPE CODE 1 VEHICLE TYPE CODE 2  \n",
       "0               Sedan               Sedan  \n",
       "1               Sedan                 NaN  \n",
       "2               Sedan       Pick-up Truck  \n",
       "3               Sedan                 NaN  \n",
       "4                 NaN                 NaN  "
      ]
     },
     "execution_count": 3,
     "metadata": {},
     "output_type": "execute_result"
    }
   ],
   "source": [
    "# Load libraries and import csv as a dataframe\n",
    "\n",
    "import pandas as pd\n",
    "import numpy as np\n",
    "from sklearn.preprocessing import LabelEncoder\n",
    "from sklearn.tree import DecisionTreeClassifier \n",
    "from sklearn.ensemble import RandomForestClassifier  \n",
    "from xgboost import XGBClassifier\n",
    "from sklearn.neighbors import KNeighborsClassifier\n",
    "from sklearn.model_selection import train_test_split \n",
    "from sklearn import metrics\n",
    "\n",
    "le = LabelEncoder()\n",
    "\n",
    "filepath = \"C:/Users/Anamay Deshpande/MIS_637_DA_ML/Project/Motor_Vehicle_Collisions_org.csv\"\n",
    "df = pd.read_csv(filepath)\n",
    "\n",
    "df.head()"
   ]
  },
  {
   "cell_type": "code",
   "execution_count": 4,
   "metadata": {
    "colab": {
     "base_uri": "https://localhost:8080/"
    },
    "id": "gDc7pXsLjrf7",
    "outputId": "ba7da594-fdf0-4bbe-84e7-285ab54cd043"
   },
   "outputs": [
    {
     "data": {
      "text/plain": [
       "(1048575, 19)"
      ]
     },
     "execution_count": 4,
     "metadata": {},
     "output_type": "execute_result"
    }
   ],
   "source": [
    "df.shape"
   ]
  },
  {
   "cell_type": "markdown",
   "metadata": {
    "id": "MMX7G18ejCQh"
   },
   "source": [
    "**Data Exploration and Data Transformation**"
   ]
  },
  {
   "cell_type": "code",
   "execution_count": 5,
   "metadata": {
    "colab": {
     "base_uri": "https://localhost:8080/"
    },
    "id": "ZEAvDh0VjuyL",
    "outputId": "c3a24710-23a9-4e9c-f946-ead31f5820de"
   },
   "outputs": [
    {
     "data": {
      "text/plain": [
       "CRASH DATE                            0\n",
       "CRASH TIME                            0\n",
       "BOROUGH                          376647\n",
       "ZIP CODE                         376831\n",
       "ON STREET NAME                   257005\n",
       "CROSS STREET NAME                542965\n",
       "NUMBER OF PERSONS INJURED            17\n",
       "NUMBER OF PERSONS KILLED             30\n",
       "NUMBER OF PEDESTRIANS INJURED         0\n",
       "NUMBER OF PEDESTRIANS KILLED          0\n",
       "NUMBER OF CYCLIST INJURED             0\n",
       "NUMBER OF CYCLIST KILLED              0\n",
       "NUMBER OF MOTORIST INJURED            0\n",
       "NUMBER OF MOTORIST KILLED             0\n",
       "CONTRIBUTING FACTOR VEHICLE 1      3747\n",
       "CONTRIBUTING FACTOR VEHICLE 2    178415\n",
       "COLLISION_ID                          0\n",
       "VEHICLE TYPE CODE 1                8665\n",
       "VEHICLE TYPE CODE 2              248906\n",
       "dtype: int64"
      ]
     },
     "execution_count": 5,
     "metadata": {},
     "output_type": "execute_result"
    }
   ],
   "source": [
    "#Number of empty cells per column of the dataframe\n",
    "df.isna().sum()"
   ]
  },
  {
   "cell_type": "code",
   "execution_count": 6,
   "metadata": {
    "id": "sCipbpTp2sYI"
   },
   "outputs": [],
   "source": [
    "#Creating another dataframe which does not contain the empty cells of the original df\n",
    "df2 = df\n",
    "df2 = df2.dropna()\n",
    "#df2.head()"
   ]
  },
  {
   "cell_type": "code",
   "execution_count": 7,
   "metadata": {
    "colab": {
     "base_uri": "https://localhost:8080/"
    },
    "id": "fKUZaISk24Lc",
    "outputId": "cd94cfae-76da-4d27-9bbc-56bd045d153a"
   },
   "outputs": [
    {
     "data": {
      "text/plain": [
       "(329689, 19)"
      ]
     },
     "execution_count": 7,
     "metadata": {},
     "output_type": "execute_result"
    }
   ],
   "source": [
    "df2.shape"
   ]
  },
  {
   "cell_type": "code",
   "execution_count": 8,
   "metadata": {
    "colab": {
     "base_uri": "https://localhost:8080/"
    },
    "id": "j-gKIeQ-28t_",
    "outputId": "fd100691-3d57-46f8-8b7d-5ae909bd2f24"
   },
   "outputs": [
    {
     "data": {
      "text/plain": [
       "(59566, 19)"
      ]
     },
     "execution_count": 8,
     "metadata": {},
     "output_type": "execute_result"
    }
   ],
   "source": [
    "#Creating df3 to not include any cells of a specific column to have the value \"unspecified\" since it is of no help to us\n",
    "df3 = df2.loc[df2['CONTRIBUTING FACTOR VEHICLE 1'] == \"Unspecified\"]\n",
    "df3.shape"
   ]
  },
  {
   "cell_type": "code",
   "execution_count": 9,
   "metadata": {
    "colab": {
     "base_uri": "https://localhost:8080/"
    },
    "id": "WW9dt6-m4ag_",
    "outputId": "0396aece-8e73-4c33-e9c9-033c9089fbe5"
   },
   "outputs": [
    {
     "data": {
      "text/plain": [
       "(270123, 19)"
      ]
     },
     "execution_count": 9,
     "metadata": {},
     "output_type": "execute_result"
    }
   ],
   "source": [
    "df3 = df2[~df2['CONTRIBUTING FACTOR VEHICLE 1'].str.contains(\"Unspecified\")]\n",
    "df3.shape"
   ]
  },
  {
   "cell_type": "code",
   "execution_count": 10,
   "metadata": {
    "colab": {
     "base_uri": "https://localhost:8080/"
    },
    "id": "AqIfkrYn6ETl",
    "outputId": "92761581-e4b0-4d46-e240-e266f2360390"
   },
   "outputs": [
    {
     "data": {
      "text/plain": [
       "(61933, 19)"
      ]
     },
     "execution_count": 10,
     "metadata": {},
     "output_type": "execute_result"
    }
   ],
   "source": [
    "df3 = df2[~df2['CONTRIBUTING FACTOR VEHICLE 2'].str.contains(\"Unspecified\")]\n",
    "df3.shape"
   ]
  },
  {
   "cell_type": "code",
   "execution_count": 11,
   "metadata": {
    "id": "QPdjFH0i6ITT"
   },
   "outputs": [],
   "source": [
    "#Creating df4 and converting the date to a standard year-month-date format\n",
    "df4 = df3.copy()"
   ]
  },
  {
   "cell_type": "code",
   "execution_count": 12,
   "metadata": {
    "id": "dfBjwHwo2rEf"
   },
   "outputs": [],
   "source": [
    "df4[\"CRASH DATE\"] = pd.to_datetime(df4[\"CRASH DATE\"]).dt.strftime(\"%Y-%m-%d\")"
   ]
  },
  {
   "cell_type": "code",
   "execution_count": 13,
   "metadata": {
    "colab": {
     "base_uri": "https://localhost:8080/",
     "height": 461
    },
    "id": "04kQtWzZMf-n",
    "outputId": "fea038e4-9463-4ef6-f7ac-953431ae817e"
   },
   "outputs": [
    {
     "data": {
      "text/html": [
       "<div>\n",
       "<style scoped>\n",
       "    .dataframe tbody tr th:only-of-type {\n",
       "        vertical-align: middle;\n",
       "    }\n",
       "\n",
       "    .dataframe tbody tr th {\n",
       "        vertical-align: top;\n",
       "    }\n",
       "\n",
       "    .dataframe thead th {\n",
       "        text-align: right;\n",
       "    }\n",
       "</style>\n",
       "<table border=\"1\" class=\"dataframe\">\n",
       "  <thead>\n",
       "    <tr style=\"text-align: right;\">\n",
       "      <th></th>\n",
       "      <th>CRASH DATE</th>\n",
       "      <th>CRASH TIME</th>\n",
       "      <th>BOROUGH</th>\n",
       "      <th>ZIP CODE</th>\n",
       "      <th>ON STREET NAME</th>\n",
       "      <th>CROSS STREET NAME</th>\n",
       "      <th>NUMBER OF PERSONS INJURED</th>\n",
       "      <th>NUMBER OF PERSONS KILLED</th>\n",
       "      <th>NUMBER OF PEDESTRIANS INJURED</th>\n",
       "      <th>NUMBER OF PEDESTRIANS KILLED</th>\n",
       "      <th>NUMBER OF CYCLIST INJURED</th>\n",
       "      <th>NUMBER OF CYCLIST KILLED</th>\n",
       "      <th>NUMBER OF MOTORIST INJURED</th>\n",
       "      <th>NUMBER OF MOTORIST KILLED</th>\n",
       "      <th>CONTRIBUTING FACTOR VEHICLE 1</th>\n",
       "      <th>CONTRIBUTING FACTOR VEHICLE 2</th>\n",
       "      <th>COLLISION_ID</th>\n",
       "      <th>VEHICLE TYPE CODE 1</th>\n",
       "      <th>VEHICLE TYPE CODE 2</th>\n",
       "    </tr>\n",
       "  </thead>\n",
       "  <tbody>\n",
       "    <tr>\n",
       "      <th>970841</th>\n",
       "      <td>2016-03-23</td>\n",
       "      <td>18:40</td>\n",
       "      <td>MANHATTAN</td>\n",
       "      <td>10017.0</td>\n",
       "      <td>WEST 47 STREET</td>\n",
       "      <td>5 AVENUE</td>\n",
       "      <td>0.0</td>\n",
       "      <td>0.0</td>\n",
       "      <td>0</td>\n",
       "      <td>0</td>\n",
       "      <td>0</td>\n",
       "      <td>0</td>\n",
       "      <td>0</td>\n",
       "      <td>0</td>\n",
       "      <td>Passing Too Closely</td>\n",
       "      <td>Passing Too Closely</td>\n",
       "      <td>3408110</td>\n",
       "      <td>4 dr sedan</td>\n",
       "      <td>DELV.</td>\n",
       "    </tr>\n",
       "    <tr>\n",
       "      <th>970144</th>\n",
       "      <td>2016-04-25</td>\n",
       "      <td>10:45</td>\n",
       "      <td>QUEENS</td>\n",
       "      <td>11433.0</td>\n",
       "      <td>LIBERTY AVENUE</td>\n",
       "      <td>173 STREET</td>\n",
       "      <td>1.0</td>\n",
       "      <td>0.0</td>\n",
       "      <td>0</td>\n",
       "      <td>0</td>\n",
       "      <td>0</td>\n",
       "      <td>0</td>\n",
       "      <td>1</td>\n",
       "      <td>0</td>\n",
       "      <td>Other Vehicular</td>\n",
       "      <td>Other Vehicular</td>\n",
       "      <td>3423040</td>\n",
       "      <td>4 dr sedan</td>\n",
       "      <td>4 dr sedan</td>\n",
       "    </tr>\n",
       "    <tr>\n",
       "      <th>1046492</th>\n",
       "      <td>2016-08-19</td>\n",
       "      <td>00:00</td>\n",
       "      <td>BROOKLYN</td>\n",
       "      <td>11207.0</td>\n",
       "      <td>JAMAICA AVENUE</td>\n",
       "      <td>PENNSYLVANIA AVENUE</td>\n",
       "      <td>0.0</td>\n",
       "      <td>0.0</td>\n",
       "      <td>0</td>\n",
       "      <td>0</td>\n",
       "      <td>0</td>\n",
       "      <td>0</td>\n",
       "      <td>0</td>\n",
       "      <td>0</td>\n",
       "      <td>Failure to Keep Right</td>\n",
       "      <td>Following Too Closely</td>\n",
       "      <td>3503188</td>\n",
       "      <td>Sedan</td>\n",
       "      <td>Station Wagon/Sport Utility Vehicle</td>\n",
       "    </tr>\n",
       "    <tr>\n",
       "      <th>1040412</th>\n",
       "      <td>2016-08-19</td>\n",
       "      <td>10:20</td>\n",
       "      <td>BRONX</td>\n",
       "      <td>10458.0</td>\n",
       "      <td>DECATUR AVENUE</td>\n",
       "      <td>EAST FORDHAM ROAD</td>\n",
       "      <td>0.0</td>\n",
       "      <td>0.0</td>\n",
       "      <td>0</td>\n",
       "      <td>0</td>\n",
       "      <td>0</td>\n",
       "      <td>0</td>\n",
       "      <td>0</td>\n",
       "      <td>0</td>\n",
       "      <td>Driver Inattention/Distraction</td>\n",
       "      <td>Driver Inattention/Distraction</td>\n",
       "      <td>3503516</td>\n",
       "      <td>Sedan</td>\n",
       "      <td>Sedan</td>\n",
       "    </tr>\n",
       "    <tr>\n",
       "      <th>1041111</th>\n",
       "      <td>2016-08-19</td>\n",
       "      <td>00:03</td>\n",
       "      <td>QUEENS</td>\n",
       "      <td>11370.0</td>\n",
       "      <td>23 AVENUE</td>\n",
       "      <td>80 STREET</td>\n",
       "      <td>0.0</td>\n",
       "      <td>0.0</td>\n",
       "      <td>0</td>\n",
       "      <td>0</td>\n",
       "      <td>0</td>\n",
       "      <td>0</td>\n",
       "      <td>0</td>\n",
       "      <td>0</td>\n",
       "      <td>Reaction to Uninvolved Vehicle</td>\n",
       "      <td>Following Too Closely</td>\n",
       "      <td>3503418</td>\n",
       "      <td>Sedan</td>\n",
       "      <td>Taxi</td>\n",
       "    </tr>\n",
       "  </tbody>\n",
       "</table>\n",
       "</div>"
      ],
      "text/plain": [
       "         CRASH DATE CRASH TIME    BOROUGH  ZIP CODE  \\\n",
       "970841   2016-03-23      18:40  MANHATTAN   10017.0   \n",
       "970144   2016-04-25      10:45     QUEENS   11433.0   \n",
       "1046492  2016-08-19      00:00   BROOKLYN   11207.0   \n",
       "1040412  2016-08-19      10:20      BRONX   10458.0   \n",
       "1041111  2016-08-19      00:03     QUEENS   11370.0   \n",
       "\n",
       "                           ON STREET NAME    CROSS STREET NAME  \\\n",
       "970841   WEST 47 STREET                               5 AVENUE   \n",
       "970144   LIBERTY AVENUE                             173 STREET   \n",
       "1046492  JAMAICA AVENUE                    PENNSYLVANIA AVENUE   \n",
       "1040412  DECATUR AVENUE                      EAST FORDHAM ROAD   \n",
       "1041111  23 AVENUE                                   80 STREET   \n",
       "\n",
       "         NUMBER OF PERSONS INJURED  NUMBER OF PERSONS KILLED  \\\n",
       "970841                         0.0                       0.0   \n",
       "970144                         1.0                       0.0   \n",
       "1046492                        0.0                       0.0   \n",
       "1040412                        0.0                       0.0   \n",
       "1041111                        0.0                       0.0   \n",
       "\n",
       "         NUMBER OF PEDESTRIANS INJURED  NUMBER OF PEDESTRIANS KILLED  \\\n",
       "970841                               0                             0   \n",
       "970144                               0                             0   \n",
       "1046492                              0                             0   \n",
       "1040412                              0                             0   \n",
       "1041111                              0                             0   \n",
       "\n",
       "         NUMBER OF CYCLIST INJURED  NUMBER OF CYCLIST KILLED  \\\n",
       "970841                           0                         0   \n",
       "970144                           0                         0   \n",
       "1046492                          0                         0   \n",
       "1040412                          0                         0   \n",
       "1041111                          0                         0   \n",
       "\n",
       "         NUMBER OF MOTORIST INJURED  NUMBER OF MOTORIST KILLED  \\\n",
       "970841                            0                          0   \n",
       "970144                            1                          0   \n",
       "1046492                           0                          0   \n",
       "1040412                           0                          0   \n",
       "1041111                           0                          0   \n",
       "\n",
       "          CONTRIBUTING FACTOR VEHICLE 1   CONTRIBUTING FACTOR VEHICLE 2  \\\n",
       "970841              Passing Too Closely             Passing Too Closely   \n",
       "970144                  Other Vehicular                 Other Vehicular   \n",
       "1046492           Failure to Keep Right           Following Too Closely   \n",
       "1040412  Driver Inattention/Distraction  Driver Inattention/Distraction   \n",
       "1041111  Reaction to Uninvolved Vehicle           Following Too Closely   \n",
       "\n",
       "         COLLISION_ID VEHICLE TYPE CODE 1                  VEHICLE TYPE CODE 2  \n",
       "970841        3408110          4 dr sedan                                DELV.  \n",
       "970144        3423040          4 dr sedan                           4 dr sedan  \n",
       "1046492       3503188               Sedan  Station Wagon/Sport Utility Vehicle  \n",
       "1040412       3503516               Sedan                                Sedan  \n",
       "1041111       3503418               Sedan                                 Taxi  "
      ]
     },
     "execution_count": 13,
     "metadata": {},
     "output_type": "execute_result"
    }
   ],
   "source": [
    "#Sort values of df4 by date in ascending order\n",
    "df4 = df4.sort_values(by='CRASH DATE', ascending=True)\n",
    "df4.head()"
   ]
  },
  {
   "cell_type": "code",
   "execution_count": 14,
   "metadata": {
    "colab": {
     "base_uri": "https://localhost:8080/"
    },
    "id": "vB1jY742NoDW",
    "outputId": "3cf91fdb-3d54-49c3-bd80-269c21de799e"
   },
   "outputs": [
    {
     "data": {
      "text/plain": [
       "(61933, 19)"
      ]
     },
     "execution_count": 14,
     "metadata": {},
     "output_type": "execute_result"
    }
   ],
   "source": [
    "df4.shape"
   ]
  },
  {
   "cell_type": "code",
   "execution_count": 15,
   "metadata": {
    "colab": {
     "base_uri": "https://localhost:8080/"
    },
    "id": "_VYPKmHXP4Co",
    "outputId": "ccfaa64d-d474-4b68-e80e-d5b719ae4033"
   },
   "outputs": [
    {
     "data": {
      "text/plain": [
       "61933"
      ]
     },
     "execution_count": 15,
     "metadata": {},
     "output_type": "execute_result"
    }
   ],
   "source": [
    "df4['COLLISION_ID'].nunique()"
   ]
  },
  {
   "cell_type": "code",
   "execution_count": 16,
   "metadata": {
    "colab": {
     "base_uri": "https://localhost:8080/",
     "height": 667
    },
    "id": "M5EsuVHXYzXA",
    "outputId": "2e9e6c4e-e2c5-4fa2-c37d-5232d16e1821"
   },
   "outputs": [
    {
     "data": {
      "text/html": [
       "<div>\n",
       "<style scoped>\n",
       "    .dataframe tbody tr th:only-of-type {\n",
       "        vertical-align: middle;\n",
       "    }\n",
       "\n",
       "    .dataframe tbody tr th {\n",
       "        vertical-align: top;\n",
       "    }\n",
       "\n",
       "    .dataframe thead th {\n",
       "        text-align: right;\n",
       "    }\n",
       "</style>\n",
       "<table border=\"1\" class=\"dataframe\">\n",
       "  <thead>\n",
       "    <tr style=\"text-align: right;\">\n",
       "      <th></th>\n",
       "      <th>ZIP CODE</th>\n",
       "      <th>NUMBER OF PERSONS INJURED</th>\n",
       "      <th>NUMBER OF PERSONS KILLED</th>\n",
       "      <th>NUMBER OF PEDESTRIANS INJURED</th>\n",
       "      <th>NUMBER OF PEDESTRIANS KILLED</th>\n",
       "      <th>NUMBER OF CYCLIST INJURED</th>\n",
       "      <th>NUMBER OF CYCLIST KILLED</th>\n",
       "      <th>NUMBER OF MOTORIST INJURED</th>\n",
       "      <th>NUMBER OF MOTORIST KILLED</th>\n",
       "      <th>COLLISION_ID</th>\n",
       "    </tr>\n",
       "  </thead>\n",
       "  <tbody>\n",
       "    <tr>\n",
       "      <th>ZIP CODE</th>\n",
       "      <td>1.000000</td>\n",
       "      <td>0.101669</td>\n",
       "      <td>0.007259</td>\n",
       "      <td>-0.000107</td>\n",
       "      <td>0.003549</td>\n",
       "      <td>-0.021601</td>\n",
       "      <td>-0.000012</td>\n",
       "      <td>0.109232</td>\n",
       "      <td>0.007939</td>\n",
       "      <td>0.071393</td>\n",
       "    </tr>\n",
       "    <tr>\n",
       "      <th>NUMBER OF PERSONS INJURED</th>\n",
       "      <td>0.101669</td>\n",
       "      <td>1.000000</td>\n",
       "      <td>0.028286</td>\n",
       "      <td>0.095572</td>\n",
       "      <td>0.006163</td>\n",
       "      <td>0.197201</td>\n",
       "      <td>-0.001237</td>\n",
       "      <td>0.950682</td>\n",
       "      <td>0.035004</td>\n",
       "      <td>0.171487</td>\n",
       "    </tr>\n",
       "    <tr>\n",
       "      <th>NUMBER OF PERSONS KILLED</th>\n",
       "      <td>0.007259</td>\n",
       "      <td>0.028286</td>\n",
       "      <td>1.000000</td>\n",
       "      <td>0.021038</td>\n",
       "      <td>0.279953</td>\n",
       "      <td>-0.000885</td>\n",
       "      <td>0.442665</td>\n",
       "      <td>0.028029</td>\n",
       "      <td>0.804335</td>\n",
       "      <td>0.013868</td>\n",
       "    </tr>\n",
       "    <tr>\n",
       "      <th>NUMBER OF PEDESTRIANS INJURED</th>\n",
       "      <td>-0.000107</td>\n",
       "      <td>0.095572</td>\n",
       "      <td>0.021038</td>\n",
       "      <td>1.000000</td>\n",
       "      <td>0.077855</td>\n",
       "      <td>-0.002922</td>\n",
       "      <td>-0.000447</td>\n",
       "      <td>0.033969</td>\n",
       "      <td>-0.000615</td>\n",
       "      <td>0.009671</td>\n",
       "    </tr>\n",
       "    <tr>\n",
       "      <th>NUMBER OF PEDESTRIANS KILLED</th>\n",
       "      <td>0.003549</td>\n",
       "      <td>0.006163</td>\n",
       "      <td>0.279953</td>\n",
       "      <td>0.077855</td>\n",
       "      <td>1.000000</td>\n",
       "      <td>0.006754</td>\n",
       "      <td>-0.000102</td>\n",
       "      <td>-0.000661</td>\n",
       "      <td>-0.000141</td>\n",
       "      <td>0.005008</td>\n",
       "    </tr>\n",
       "    <tr>\n",
       "      <th>NUMBER OF CYCLIST INJURED</th>\n",
       "      <td>-0.021601</td>\n",
       "      <td>0.197201</td>\n",
       "      <td>-0.000885</td>\n",
       "      <td>-0.002922</td>\n",
       "      <td>0.006754</td>\n",
       "      <td>1.000000</td>\n",
       "      <td>0.002465</td>\n",
       "      <td>-0.089282</td>\n",
       "      <td>-0.004145</td>\n",
       "      <td>0.121358</td>\n",
       "    </tr>\n",
       "    <tr>\n",
       "      <th>NUMBER OF CYCLIST KILLED</th>\n",
       "      <td>-0.000012</td>\n",
       "      <td>-0.001237</td>\n",
       "      <td>0.442665</td>\n",
       "      <td>-0.000447</td>\n",
       "      <td>-0.000102</td>\n",
       "      <td>0.002465</td>\n",
       "      <td>1.000000</td>\n",
       "      <td>-0.001847</td>\n",
       "      <td>-0.000222</td>\n",
       "      <td>0.000113</td>\n",
       "    </tr>\n",
       "    <tr>\n",
       "      <th>NUMBER OF MOTORIST INJURED</th>\n",
       "      <td>0.109232</td>\n",
       "      <td>0.950682</td>\n",
       "      <td>0.028029</td>\n",
       "      <td>0.033969</td>\n",
       "      <td>-0.000661</td>\n",
       "      <td>-0.089282</td>\n",
       "      <td>-0.001847</td>\n",
       "      <td>1.000000</td>\n",
       "      <td>0.037200</td>\n",
       "      <td>0.124586</td>\n",
       "    </tr>\n",
       "    <tr>\n",
       "      <th>NUMBER OF MOTORIST KILLED</th>\n",
       "      <td>0.007939</td>\n",
       "      <td>0.035004</td>\n",
       "      <td>0.804335</td>\n",
       "      <td>-0.000615</td>\n",
       "      <td>-0.000141</td>\n",
       "      <td>-0.004145</td>\n",
       "      <td>-0.000222</td>\n",
       "      <td>0.037200</td>\n",
       "      <td>1.000000</td>\n",
       "      <td>0.010359</td>\n",
       "    </tr>\n",
       "    <tr>\n",
       "      <th>COLLISION_ID</th>\n",
       "      <td>0.071393</td>\n",
       "      <td>0.171487</td>\n",
       "      <td>0.013868</td>\n",
       "      <td>0.009671</td>\n",
       "      <td>0.005008</td>\n",
       "      <td>0.121358</td>\n",
       "      <td>0.000113</td>\n",
       "      <td>0.124586</td>\n",
       "      <td>0.010359</td>\n",
       "      <td>1.000000</td>\n",
       "    </tr>\n",
       "  </tbody>\n",
       "</table>\n",
       "</div>"
      ],
      "text/plain": [
       "                               ZIP CODE  NUMBER OF PERSONS INJURED  \\\n",
       "ZIP CODE                       1.000000                   0.101669   \n",
       "NUMBER OF PERSONS INJURED      0.101669                   1.000000   \n",
       "NUMBER OF PERSONS KILLED       0.007259                   0.028286   \n",
       "NUMBER OF PEDESTRIANS INJURED -0.000107                   0.095572   \n",
       "NUMBER OF PEDESTRIANS KILLED   0.003549                   0.006163   \n",
       "NUMBER OF CYCLIST INJURED     -0.021601                   0.197201   \n",
       "NUMBER OF CYCLIST KILLED      -0.000012                  -0.001237   \n",
       "NUMBER OF MOTORIST INJURED     0.109232                   0.950682   \n",
       "NUMBER OF MOTORIST KILLED      0.007939                   0.035004   \n",
       "COLLISION_ID                   0.071393                   0.171487   \n",
       "\n",
       "                               NUMBER OF PERSONS KILLED  \\\n",
       "ZIP CODE                                       0.007259   \n",
       "NUMBER OF PERSONS INJURED                      0.028286   \n",
       "NUMBER OF PERSONS KILLED                       1.000000   \n",
       "NUMBER OF PEDESTRIANS INJURED                  0.021038   \n",
       "NUMBER OF PEDESTRIANS KILLED                   0.279953   \n",
       "NUMBER OF CYCLIST INJURED                     -0.000885   \n",
       "NUMBER OF CYCLIST KILLED                       0.442665   \n",
       "NUMBER OF MOTORIST INJURED                     0.028029   \n",
       "NUMBER OF MOTORIST KILLED                      0.804335   \n",
       "COLLISION_ID                                   0.013868   \n",
       "\n",
       "                               NUMBER OF PEDESTRIANS INJURED  \\\n",
       "ZIP CODE                                           -0.000107   \n",
       "NUMBER OF PERSONS INJURED                           0.095572   \n",
       "NUMBER OF PERSONS KILLED                            0.021038   \n",
       "NUMBER OF PEDESTRIANS INJURED                       1.000000   \n",
       "NUMBER OF PEDESTRIANS KILLED                        0.077855   \n",
       "NUMBER OF CYCLIST INJURED                          -0.002922   \n",
       "NUMBER OF CYCLIST KILLED                           -0.000447   \n",
       "NUMBER OF MOTORIST INJURED                          0.033969   \n",
       "NUMBER OF MOTORIST KILLED                          -0.000615   \n",
       "COLLISION_ID                                        0.009671   \n",
       "\n",
       "                               NUMBER OF PEDESTRIANS KILLED  \\\n",
       "ZIP CODE                                           0.003549   \n",
       "NUMBER OF PERSONS INJURED                          0.006163   \n",
       "NUMBER OF PERSONS KILLED                           0.279953   \n",
       "NUMBER OF PEDESTRIANS INJURED                      0.077855   \n",
       "NUMBER OF PEDESTRIANS KILLED                       1.000000   \n",
       "NUMBER OF CYCLIST INJURED                          0.006754   \n",
       "NUMBER OF CYCLIST KILLED                          -0.000102   \n",
       "NUMBER OF MOTORIST INJURED                        -0.000661   \n",
       "NUMBER OF MOTORIST KILLED                         -0.000141   \n",
       "COLLISION_ID                                       0.005008   \n",
       "\n",
       "                               NUMBER OF CYCLIST INJURED  \\\n",
       "ZIP CODE                                       -0.021601   \n",
       "NUMBER OF PERSONS INJURED                       0.197201   \n",
       "NUMBER OF PERSONS KILLED                       -0.000885   \n",
       "NUMBER OF PEDESTRIANS INJURED                  -0.002922   \n",
       "NUMBER OF PEDESTRIANS KILLED                    0.006754   \n",
       "NUMBER OF CYCLIST INJURED                       1.000000   \n",
       "NUMBER OF CYCLIST KILLED                        0.002465   \n",
       "NUMBER OF MOTORIST INJURED                     -0.089282   \n",
       "NUMBER OF MOTORIST KILLED                      -0.004145   \n",
       "COLLISION_ID                                    0.121358   \n",
       "\n",
       "                               NUMBER OF CYCLIST KILLED  \\\n",
       "ZIP CODE                                      -0.000012   \n",
       "NUMBER OF PERSONS INJURED                     -0.001237   \n",
       "NUMBER OF PERSONS KILLED                       0.442665   \n",
       "NUMBER OF PEDESTRIANS INJURED                 -0.000447   \n",
       "NUMBER OF PEDESTRIANS KILLED                  -0.000102   \n",
       "NUMBER OF CYCLIST INJURED                      0.002465   \n",
       "NUMBER OF CYCLIST KILLED                       1.000000   \n",
       "NUMBER OF MOTORIST INJURED                    -0.001847   \n",
       "NUMBER OF MOTORIST KILLED                     -0.000222   \n",
       "COLLISION_ID                                   0.000113   \n",
       "\n",
       "                               NUMBER OF MOTORIST INJURED  \\\n",
       "ZIP CODE                                         0.109232   \n",
       "NUMBER OF PERSONS INJURED                        0.950682   \n",
       "NUMBER OF PERSONS KILLED                         0.028029   \n",
       "NUMBER OF PEDESTRIANS INJURED                    0.033969   \n",
       "NUMBER OF PEDESTRIANS KILLED                    -0.000661   \n",
       "NUMBER OF CYCLIST INJURED                       -0.089282   \n",
       "NUMBER OF CYCLIST KILLED                        -0.001847   \n",
       "NUMBER OF MOTORIST INJURED                       1.000000   \n",
       "NUMBER OF MOTORIST KILLED                        0.037200   \n",
       "COLLISION_ID                                     0.124586   \n",
       "\n",
       "                               NUMBER OF MOTORIST KILLED  COLLISION_ID  \n",
       "ZIP CODE                                        0.007939      0.071393  \n",
       "NUMBER OF PERSONS INJURED                       0.035004      0.171487  \n",
       "NUMBER OF PERSONS KILLED                        0.804335      0.013868  \n",
       "NUMBER OF PEDESTRIANS INJURED                  -0.000615      0.009671  \n",
       "NUMBER OF PEDESTRIANS KILLED                   -0.000141      0.005008  \n",
       "NUMBER OF CYCLIST INJURED                      -0.004145      0.121358  \n",
       "NUMBER OF CYCLIST KILLED                       -0.000222      0.000113  \n",
       "NUMBER OF MOTORIST INJURED                      0.037200      0.124586  \n",
       "NUMBER OF MOTORIST KILLED                       1.000000      0.010359  \n",
       "COLLISION_ID                                    0.010359      1.000000  "
      ]
     },
     "execution_count": 16,
     "metadata": {},
     "output_type": "execute_result"
    }
   ],
   "source": [
    "#Correlation matrix for all columns of df4\n",
    "df4.corr()"
   ]
  },
  {
   "cell_type": "markdown",
   "metadata": {
    "id": "SwKag3-IjTUT"
   },
   "source": [
    "**Data Preperation and Modeling**"
   ]
  },
  {
   "cell_type": "code",
   "execution_count": 114,
   "metadata": {
    "colab": {
     "base_uri": "https://localhost:8080/",
     "height": 406
    },
    "id": "FI7gknOxBiwe",
    "outputId": "d3e11437-ed16-4f26-c9f3-21160cb21109"
   },
   "outputs": [
    {
     "data": {
      "text/html": [
       "<div>\n",
       "<style scoped>\n",
       "    .dataframe tbody tr th:only-of-type {\n",
       "        vertical-align: middle;\n",
       "    }\n",
       "\n",
       "    .dataframe tbody tr th {\n",
       "        vertical-align: top;\n",
       "    }\n",
       "\n",
       "    .dataframe thead th {\n",
       "        text-align: right;\n",
       "    }\n",
       "</style>\n",
       "<table border=\"1\" class=\"dataframe\">\n",
       "  <thead>\n",
       "    <tr style=\"text-align: right;\">\n",
       "      <th></th>\n",
       "      <th>CRASH DATE</th>\n",
       "      <th>CRASH TIME</th>\n",
       "      <th>VEHICLE TYPE CODE 1</th>\n",
       "      <th>VEHICLE TYPE CODE 2</th>\n",
       "      <th>CONTRIBUTING FACTOR VEHICLE 1</th>\n",
       "      <th>CONTRIBUTING FACTOR VEHICLE 2</th>\n",
       "      <th>NUMBER OF PERSONS KILLED</th>\n",
       "      <th>NUMBER OF PERSONS INJURED</th>\n",
       "      <th>NUMBER OF PEDESTRIANS KILLED</th>\n",
       "      <th>NUMBER OF PEDESTRIANS INJURED</th>\n",
       "      <th>BOROUGH</th>\n",
       "    </tr>\n",
       "  </thead>\n",
       "  <tbody>\n",
       "    <tr>\n",
       "      <th>970841</th>\n",
       "      <td>2016-03-23</td>\n",
       "      <td>18:40</td>\n",
       "      <td>4 dr sedan</td>\n",
       "      <td>DELV.</td>\n",
       "      <td>Passing Too Closely</td>\n",
       "      <td>Passing Too Closely</td>\n",
       "      <td>0.0</td>\n",
       "      <td>0.0</td>\n",
       "      <td>0</td>\n",
       "      <td>0</td>\n",
       "      <td>MANHATTAN</td>\n",
       "    </tr>\n",
       "    <tr>\n",
       "      <th>970144</th>\n",
       "      <td>2016-04-25</td>\n",
       "      <td>10:45</td>\n",
       "      <td>4 dr sedan</td>\n",
       "      <td>4 dr sedan</td>\n",
       "      <td>Other Vehicular</td>\n",
       "      <td>Other Vehicular</td>\n",
       "      <td>0.0</td>\n",
       "      <td>1.0</td>\n",
       "      <td>0</td>\n",
       "      <td>0</td>\n",
       "      <td>QUEENS</td>\n",
       "    </tr>\n",
       "    <tr>\n",
       "      <th>1046492</th>\n",
       "      <td>2016-08-19</td>\n",
       "      <td>00:00</td>\n",
       "      <td>Sedan</td>\n",
       "      <td>Station Wagon/Sport Utility Vehicle</td>\n",
       "      <td>Failure to Keep Right</td>\n",
       "      <td>Following Too Closely</td>\n",
       "      <td>0.0</td>\n",
       "      <td>0.0</td>\n",
       "      <td>0</td>\n",
       "      <td>0</td>\n",
       "      <td>BROOKLYN</td>\n",
       "    </tr>\n",
       "    <tr>\n",
       "      <th>1040412</th>\n",
       "      <td>2016-08-19</td>\n",
       "      <td>10:20</td>\n",
       "      <td>Sedan</td>\n",
       "      <td>Sedan</td>\n",
       "      <td>Driver Inattention/Distraction</td>\n",
       "      <td>Driver Inattention/Distraction</td>\n",
       "      <td>0.0</td>\n",
       "      <td>0.0</td>\n",
       "      <td>0</td>\n",
       "      <td>0</td>\n",
       "      <td>BRONX</td>\n",
       "    </tr>\n",
       "    <tr>\n",
       "      <th>1041111</th>\n",
       "      <td>2016-08-19</td>\n",
       "      <td>00:03</td>\n",
       "      <td>Sedan</td>\n",
       "      <td>Taxi</td>\n",
       "      <td>Reaction to Uninvolved Vehicle</td>\n",
       "      <td>Following Too Closely</td>\n",
       "      <td>0.0</td>\n",
       "      <td>0.0</td>\n",
       "      <td>0</td>\n",
       "      <td>0</td>\n",
       "      <td>QUEENS</td>\n",
       "    </tr>\n",
       "  </tbody>\n",
       "</table>\n",
       "</div>"
      ],
      "text/plain": [
       "         CRASH DATE CRASH TIME VEHICLE TYPE CODE 1  \\\n",
       "970841   2016-03-23      18:40          4 dr sedan   \n",
       "970144   2016-04-25      10:45          4 dr sedan   \n",
       "1046492  2016-08-19      00:00               Sedan   \n",
       "1040412  2016-08-19      10:20               Sedan   \n",
       "1041111  2016-08-19      00:03               Sedan   \n",
       "\n",
       "                         VEHICLE TYPE CODE 2   CONTRIBUTING FACTOR VEHICLE 1  \\\n",
       "970841                                 DELV.             Passing Too Closely   \n",
       "970144                            4 dr sedan                 Other Vehicular   \n",
       "1046492  Station Wagon/Sport Utility Vehicle           Failure to Keep Right   \n",
       "1040412                                Sedan  Driver Inattention/Distraction   \n",
       "1041111                                 Taxi  Reaction to Uninvolved Vehicle   \n",
       "\n",
       "          CONTRIBUTING FACTOR VEHICLE 2  NUMBER OF PERSONS KILLED  \\\n",
       "970841              Passing Too Closely                       0.0   \n",
       "970144                  Other Vehicular                       0.0   \n",
       "1046492           Following Too Closely                       0.0   \n",
       "1040412  Driver Inattention/Distraction                       0.0   \n",
       "1041111           Following Too Closely                       0.0   \n",
       "\n",
       "         NUMBER OF PERSONS INJURED  NUMBER OF PEDESTRIANS KILLED  \\\n",
       "970841                         0.0                             0   \n",
       "970144                         1.0                             0   \n",
       "1046492                        0.0                             0   \n",
       "1040412                        0.0                             0   \n",
       "1041111                        0.0                             0   \n",
       "\n",
       "         NUMBER OF PEDESTRIANS INJURED    BOROUGH  \n",
       "970841                               0  MANHATTAN  \n",
       "970144                               0     QUEENS  \n",
       "1046492                              0   BROOKLYN  \n",
       "1040412                              0      BRONX  \n",
       "1041111                              0     QUEENS  "
      ]
     },
     "execution_count": 114,
     "metadata": {},
     "output_type": "execute_result"
    }
   ],
   "source": [
    "#creating another dataframe which contains only those columns that will be useful when fed to a machine learning model for prediction\n",
    "df_model = df4[['CRASH DATE', 'CRASH TIME', 'VEHICLE TYPE CODE 1', 'VEHICLE TYPE CODE 2', 'CONTRIBUTING FACTOR VEHICLE 1', \n",
    "                'CONTRIBUTING FACTOR VEHICLE 2', 'NUMBER OF PERSONS KILLED', 'NUMBER OF PERSONS INJURED', 'NUMBER OF PEDESTRIANS KILLED', \n",
    "                'NUMBER OF PEDESTRIANS INJURED', 'BOROUGH']].copy()\n",
    "df_model.head()"
   ]
  },
  {
   "cell_type": "code",
   "execution_count": 115,
   "metadata": {
    "colab": {
     "base_uri": "https://localhost:8080/"
    },
    "id": "NW1q3fNHCZev",
    "outputId": "6baa2649-8da9-4821-91de-c82c1cd657af"
   },
   "outputs": [
    {
     "data": {
      "text/plain": [
       "(61933, 11)"
      ]
     },
     "execution_count": 115,
     "metadata": {},
     "output_type": "execute_result"
    }
   ],
   "source": [
    "df_model.shape"
   ]
  },
  {
   "cell_type": "code",
   "execution_count": 116,
   "metadata": {
    "id": "JmaQEvP_x6S3"
   },
   "outputs": [],
   "source": [
    "#Creating a new column which contains the month of the crash date event\n",
    "df_model['MONTH'] = pd.DatetimeIndex(df_model['CRASH DATE']).month"
   ]
  },
  {
   "cell_type": "code",
   "execution_count": 117,
   "metadata": {
    "id": "OQ3PUIQvyAdI"
   },
   "outputs": [],
   "source": [
    "#Assigning each observation a season based on the value of the month\n",
    "\n",
    "df_model.loc[(df_model[\"MONTH\"] == 3) | (df_model[\"MONTH\"] == 4) | (df_model[\"MONTH\"] == 5) , \"MONTH\"] = \"Spring\"\n",
    "df_model.loc[(df_model[\"MONTH\"] == 6) | (df_model[\"MONTH\"] == 7) | (df_model[\"MONTH\"] == 8) , \"MONTH\"] = \"Summer\"\n",
    "df_model.loc[(df_model[\"MONTH\"] == 9) | (df_model[\"MONTH\"] == 10) | (df_model[\"MONTH\"] == 11) , \"MONTH\"] = \"Autumn\"\n",
    "df_model.loc[(df_model[\"MONTH\"] == 12) | (df_model[\"MONTH\"] == 1) | (df_model[\"MONTH\"] == 2) , \"MONTH\"] = \"Winter\"\n",
    "df_model[\"SEASON\"] = df_model[\"MONTH\"]\n",
    "df_model = df_model.drop(columns = [\"MONTH\", \"CRASH DATE\"])"
   ]
  },
  {
   "cell_type": "code",
   "execution_count": 118,
   "metadata": {
    "colab": {
     "base_uri": "https://localhost:8080/",
     "height": 444
    },
    "id": "mGFGMu-My1wW",
    "outputId": "4d563c84-4c0c-4d23-c369-438dbc860176"
   },
   "outputs": [
    {
     "data": {
      "text/html": [
       "<div>\n",
       "<style scoped>\n",
       "    .dataframe tbody tr th:only-of-type {\n",
       "        vertical-align: middle;\n",
       "    }\n",
       "\n",
       "    .dataframe tbody tr th {\n",
       "        vertical-align: top;\n",
       "    }\n",
       "\n",
       "    .dataframe thead th {\n",
       "        text-align: right;\n",
       "    }\n",
       "</style>\n",
       "<table border=\"1\" class=\"dataframe\">\n",
       "  <thead>\n",
       "    <tr style=\"text-align: right;\">\n",
       "      <th></th>\n",
       "      <th>s_Autumn</th>\n",
       "      <th>s_Spring</th>\n",
       "      <th>s_Summer</th>\n",
       "      <th>s_Winter</th>\n",
       "      <th>CRASH TIME</th>\n",
       "      <th>VEHICLE TYPE CODE 1</th>\n",
       "      <th>VEHICLE TYPE CODE 2</th>\n",
       "      <th>CONTRIBUTING FACTOR VEHICLE 1</th>\n",
       "      <th>CONTRIBUTING FACTOR VEHICLE 2</th>\n",
       "      <th>NUMBER OF PERSONS KILLED</th>\n",
       "      <th>NUMBER OF PERSONS INJURED</th>\n",
       "      <th>NUMBER OF PEDESTRIANS KILLED</th>\n",
       "      <th>NUMBER OF PEDESTRIANS INJURED</th>\n",
       "      <th>BOROUGH</th>\n",
       "    </tr>\n",
       "  </thead>\n",
       "  <tbody>\n",
       "    <tr>\n",
       "      <th>970841</th>\n",
       "      <td>0</td>\n",
       "      <td>1</td>\n",
       "      <td>0</td>\n",
       "      <td>0</td>\n",
       "      <td>18:40</td>\n",
       "      <td>4 dr sedan</td>\n",
       "      <td>DELV.</td>\n",
       "      <td>Passing Too Closely</td>\n",
       "      <td>Passing Too Closely</td>\n",
       "      <td>0.0</td>\n",
       "      <td>0.0</td>\n",
       "      <td>0</td>\n",
       "      <td>0</td>\n",
       "      <td>MANHATTAN</td>\n",
       "    </tr>\n",
       "    <tr>\n",
       "      <th>970144</th>\n",
       "      <td>0</td>\n",
       "      <td>1</td>\n",
       "      <td>0</td>\n",
       "      <td>0</td>\n",
       "      <td>10:45</td>\n",
       "      <td>4 dr sedan</td>\n",
       "      <td>4 dr sedan</td>\n",
       "      <td>Other Vehicular</td>\n",
       "      <td>Other Vehicular</td>\n",
       "      <td>0.0</td>\n",
       "      <td>1.0</td>\n",
       "      <td>0</td>\n",
       "      <td>0</td>\n",
       "      <td>QUEENS</td>\n",
       "    </tr>\n",
       "    <tr>\n",
       "      <th>1046492</th>\n",
       "      <td>0</td>\n",
       "      <td>0</td>\n",
       "      <td>1</td>\n",
       "      <td>0</td>\n",
       "      <td>00:00</td>\n",
       "      <td>Sedan</td>\n",
       "      <td>Station Wagon/Sport Utility Vehicle</td>\n",
       "      <td>Failure to Keep Right</td>\n",
       "      <td>Following Too Closely</td>\n",
       "      <td>0.0</td>\n",
       "      <td>0.0</td>\n",
       "      <td>0</td>\n",
       "      <td>0</td>\n",
       "      <td>BROOKLYN</td>\n",
       "    </tr>\n",
       "    <tr>\n",
       "      <th>1040412</th>\n",
       "      <td>0</td>\n",
       "      <td>0</td>\n",
       "      <td>1</td>\n",
       "      <td>0</td>\n",
       "      <td>10:20</td>\n",
       "      <td>Sedan</td>\n",
       "      <td>Sedan</td>\n",
       "      <td>Driver Inattention/Distraction</td>\n",
       "      <td>Driver Inattention/Distraction</td>\n",
       "      <td>0.0</td>\n",
       "      <td>0.0</td>\n",
       "      <td>0</td>\n",
       "      <td>0</td>\n",
       "      <td>BRONX</td>\n",
       "    </tr>\n",
       "    <tr>\n",
       "      <th>1041111</th>\n",
       "      <td>0</td>\n",
       "      <td>0</td>\n",
       "      <td>1</td>\n",
       "      <td>0</td>\n",
       "      <td>00:03</td>\n",
       "      <td>Sedan</td>\n",
       "      <td>Taxi</td>\n",
       "      <td>Reaction to Uninvolved Vehicle</td>\n",
       "      <td>Following Too Closely</td>\n",
       "      <td>0.0</td>\n",
       "      <td>0.0</td>\n",
       "      <td>0</td>\n",
       "      <td>0</td>\n",
       "      <td>QUEENS</td>\n",
       "    </tr>\n",
       "  </tbody>\n",
       "</table>\n",
       "</div>"
      ],
      "text/plain": [
       "         s_Autumn  s_Spring  s_Summer  s_Winter CRASH TIME  \\\n",
       "970841          0         1         0         0      18:40   \n",
       "970144          0         1         0         0      10:45   \n",
       "1046492         0         0         1         0      00:00   \n",
       "1040412         0         0         1         0      10:20   \n",
       "1041111         0         0         1         0      00:03   \n",
       "\n",
       "        VEHICLE TYPE CODE 1                  VEHICLE TYPE CODE 2  \\\n",
       "970841           4 dr sedan                                DELV.   \n",
       "970144           4 dr sedan                           4 dr sedan   \n",
       "1046492               Sedan  Station Wagon/Sport Utility Vehicle   \n",
       "1040412               Sedan                                Sedan   \n",
       "1041111               Sedan                                 Taxi   \n",
       "\n",
       "          CONTRIBUTING FACTOR VEHICLE 1   CONTRIBUTING FACTOR VEHICLE 2  \\\n",
       "970841              Passing Too Closely             Passing Too Closely   \n",
       "970144                  Other Vehicular                 Other Vehicular   \n",
       "1046492           Failure to Keep Right           Following Too Closely   \n",
       "1040412  Driver Inattention/Distraction  Driver Inattention/Distraction   \n",
       "1041111  Reaction to Uninvolved Vehicle           Following Too Closely   \n",
       "\n",
       "         NUMBER OF PERSONS KILLED  NUMBER OF PERSONS INJURED  \\\n",
       "970841                        0.0                        0.0   \n",
       "970144                        0.0                        1.0   \n",
       "1046492                       0.0                        0.0   \n",
       "1040412                       0.0                        0.0   \n",
       "1041111                       0.0                        0.0   \n",
       "\n",
       "         NUMBER OF PEDESTRIANS KILLED  NUMBER OF PEDESTRIANS INJURED  \\\n",
       "970841                              0                              0   \n",
       "970144                              0                              0   \n",
       "1046492                             0                              0   \n",
       "1040412                             0                              0   \n",
       "1041111                             0                              0   \n",
       "\n",
       "           BOROUGH  \n",
       "970841   MANHATTAN  \n",
       "970144      QUEENS  \n",
       "1046492   BROOKLYN  \n",
       "1040412      BRONX  \n",
       "1041111     QUEENS  "
      ]
     },
     "execution_count": 118,
     "metadata": {},
     "output_type": "execute_result"
    }
   ],
   "source": [
    "# One-Hot Encoding the season feature\n",
    "label = pd.get_dummies(df_model['SEASON'], prefix='s')\n",
    "\n",
    "df_model = pd.concat([label, df_model], axis = 1)\n",
    "df_model.drop(['SEASON'], axis = 1, inplace = True)\n",
    "df_model.head()"
   ]
  },
  {
   "cell_type": "code",
   "execution_count": 168,
   "metadata": {},
   "outputs": [
    {
     "data": {
      "text/plain": [
       "2    18294\n",
       "1    16272\n",
       "0    15744\n",
       "3     9986\n",
       "4     1637\n",
       "Name: BOROUGH, dtype: int64"
      ]
     },
     "execution_count": 168,
     "metadata": {},
     "output_type": "execute_result"
    }
   ],
   "source": [
    "df_model['BOROUGH'].value_counts()"
   ]
  },
  {
   "cell_type": "code",
   "execution_count": 119,
   "metadata": {
    "colab": {
     "base_uri": "https://localhost:8080/"
    },
    "id": "wn_muDswCoVy",
    "outputId": "f7c8d95f-d357-4148-8b57-dfecc371c091"
   },
   "outputs": [
    {
     "data": {
      "text/plain": [
       "53"
      ]
     },
     "execution_count": 119,
     "metadata": {},
     "output_type": "execute_result"
    }
   ],
   "source": [
    "#Number of unique values in the column\n",
    "df_model['CONTRIBUTING FACTOR VEHICLE 1'].nunique()"
   ]
  },
  {
   "cell_type": "code",
   "execution_count": 120,
   "metadata": {
    "colab": {
     "base_uri": "https://localhost:8080/"
    },
    "id": "UukITktm-BKH",
    "outputId": "20a2bcff-aa5b-4965-8fa8-9c6eaf45ca16"
   },
   "outputs": [
    {
     "data": {
      "text/plain": [
       "Driver Inattention/Distraction                           24568\n",
       "Other Vehicular                                           7570\n",
       "Failure to Yield Right-of-Way                             4369\n",
       "Passing or Lane Usage Improper                            3908\n",
       "Following Too Closely                                     2738\n",
       "Passing Too Closely                                       2678\n",
       "Traffic Control Disregarded                               2027\n",
       "Unsafe Lane Changing                                      1898\n",
       "Unsafe Speed                                              1647\n",
       "Turning Improperly                                        1548\n",
       "Driver Inexperience                                       1464\n",
       "Backing Unsafely                                          1273\n",
       "Reaction to Uninvolved Vehicle                            1228\n",
       "View Obstructed/Limited                                   1086\n",
       "Pedestrian/Bicyclist/Other Pedestrian Error/Confusion      773\n",
       "Pavement Slippery                                          647\n",
       "Oversized Vehicle                                          609\n",
       "Alcohol Involvement                                        305\n",
       "Passenger Distraction                                      253\n",
       "Aggressive Driving/Road Rage                               229\n",
       "Outside Car Distraction                                    218\n",
       "Traffic Control Device Improper/Non-Working                129\n",
       "Obstruction/Debris                                         115\n",
       "Failure to Keep Right                                      114\n",
       "Lane Marking Improper/Inadequate                           106\n",
       "Glare                                                       91\n",
       "Brakes Defective                                            58\n",
       "Fell Asleep                                                 34\n",
       "Pavement Defective                                          33\n",
       "Steering Failure                                            19\n",
       "Fatigued/Drowsy                                             18\n",
       "Drugs (illegal)                                             17\n",
       "Animals Action                                              16\n",
       "Tire Failure/Inadequate                                     16\n",
       "Other Lighting Defects                                      15\n",
       "Cell Phone (hand-Held)                                      14\n",
       "Driverless/Runaway Vehicle                                  14\n",
       "Tinted Windows                                              12\n",
       "Headlights Defective                                        12\n",
       "Illnes                                                      11\n",
       "Accelerator Defective                                       10\n",
       "Lost Consciousness                                           7\n",
       "Tow Hitch Defective                                          6\n",
       "Using On Board Navigation Device                             6\n",
       "Other Electronic Device                                      5\n",
       "Shoulders Defective/Improper                                 4\n",
       "Eating or Drinking                                           4\n",
       "Vehicle Vandalism                                            4\n",
       "Physical Disability                                          2\n",
       "Listening/Using Headphones                                   2\n",
       "Prescription Medication                                      1\n",
       "Cell Phone (hands-free)                                      1\n",
       "Texting                                                      1\n",
       "Name: CONTRIBUTING FACTOR VEHICLE 1, dtype: int64"
      ]
     },
     "execution_count": 120,
     "metadata": {},
     "output_type": "execute_result"
    }
   ],
   "source": [
    "#Counting the number of times each unique value appears in the column\n",
    "df_model['CONTRIBUTING FACTOR VEHICLE 1'].value_counts()"
   ]
  },
  {
   "cell_type": "code",
   "execution_count": 121,
   "metadata": {
    "colab": {
     "base_uri": "https://localhost:8080/"
    },
    "id": "Tu60Kw14DCrN",
    "outputId": "ae4e1cae-c48e-4f5f-d4f8-a253a7afb906"
   },
   "outputs": [
    {
     "data": {
      "text/plain": [
       "53"
      ]
     },
     "execution_count": 121,
     "metadata": {},
     "output_type": "execute_result"
    }
   ],
   "source": [
    "df_model['CONTRIBUTING FACTOR VEHICLE 2'].nunique()"
   ]
  },
  {
   "cell_type": "code",
   "execution_count": 122,
   "metadata": {
    "colab": {
     "base_uri": "https://localhost:8080/"
    },
    "id": "2nKlABlc-Ne6",
    "outputId": "6ae8d513-0924-47bc-ae04-4f35003b4857"
   },
   "outputs": [
    {
     "data": {
      "text/plain": [
       "Driver Inattention/Distraction                           24913\n",
       "Other Vehicular                                           5669\n",
       "Failure to Yield Right-of-Way                             4568\n",
       "Following Too Closely                                     4251\n",
       "Passing or Lane Usage Improper                            4162\n",
       "Passing Too Closely                                       2924\n",
       "Traffic Control Disregarded                               2350\n",
       "Unsafe Lane Changing                                      1998\n",
       "Unsafe Speed                                              1705\n",
       "Turning Improperly                                        1578\n",
       "Driver Inexperience                                       1362\n",
       "Backing Unsafely                                          1185\n",
       "View Obstructed/Limited                                    832\n",
       "Pedestrian/Bicyclist/Other Pedestrian Error/Confusion      820\n",
       "Reaction to Uninvolved Vehicle                             685\n",
       "Pavement Slippery                                          641\n",
       "Oversized Vehicle                                          513\n",
       "Aggressive Driving/Road Rage                               292\n",
       "Alcohol Involvement                                        280\n",
       "Passenger Distraction                                      158\n",
       "Outside Car Distraction                                    149\n",
       "Failure to Keep Right                                      133\n",
       "Traffic Control Device Improper/Non-Working                128\n",
       "Lane Marking Improper/Inadequate                           113\n",
       "Obstruction/Debris                                          91\n",
       "Glare                                                       73\n",
       "Brakes Defective                                            57\n",
       "Fatigued/Drowsy                                             40\n",
       "Pavement Defective                                          35\n",
       "Fell Asleep                                                 21\n",
       "Cell Phone (hand-Held)                                      21\n",
       "Illnes                                                      19\n",
       "Driverless/Runaway Vehicle                                  19\n",
       "Headlights Defective                                        17\n",
       "Tinted Windows                                              17\n",
       "Other Lighting Defects                                      14\n",
       "Drugs (illegal)                                             14\n",
       "Accelerator Defective                                       12\n",
       "Animals Action                                              11\n",
       "Lost Consciousness                                           9\n",
       "Steering Failure                                             8\n",
       "Listening/Using Headphones                                   8\n",
       "Tow Hitch Defective                                          7\n",
       "Tire Failure/Inadequate                                      6\n",
       "Using On Board Navigation Device                             4\n",
       "Cell Phone (hands-free)                                      4\n",
       "Other Electronic Device                                      4\n",
       "Physical Disability                                          3\n",
       "Vehicle Vandalism                                            3\n",
       "Shoulders Defective/Improper                                 2\n",
       "Windshield Inadequate                                        2\n",
       "Eating or Drinking                                           2\n",
       "Texting                                                      1\n",
       "Name: CONTRIBUTING FACTOR VEHICLE 2, dtype: int64"
      ]
     },
     "execution_count": 122,
     "metadata": {},
     "output_type": "execute_result"
    }
   ],
   "source": [
    "df_model['CONTRIBUTING FACTOR VEHICLE 2'].value_counts()"
   ]
  },
  {
   "cell_type": "code",
   "execution_count": 123,
   "metadata": {
    "colab": {
     "base_uri": "https://localhost:8080/"
    },
    "id": "j37FMgiRDFHJ",
    "outputId": "ce68e197-0b8b-43f6-c753-afe2f5361125"
   },
   "outputs": [
    {
     "data": {
      "text/plain": [
       "211"
      ]
     },
     "execution_count": 123,
     "metadata": {},
     "output_type": "execute_result"
    }
   ],
   "source": [
    "df_model['VEHICLE TYPE CODE 1'].nunique()"
   ]
  },
  {
   "cell_type": "code",
   "execution_count": 124,
   "metadata": {
    "colab": {
     "base_uri": "https://localhost:8080/"
    },
    "id": "pfU83k8c-XaM",
    "outputId": "ed4ee28b-884b-4a66-ee96-00397f674d67"
   },
   "outputs": [
    {
     "name": "stderr",
     "output_type": "stream",
     "text": [
      "C:\\Users\\Anamay Deshpande\\AppData\\Local\\Temp\\ipykernel_144332\\730305575.py:7: SettingWithCopyWarning: \n",
      "A value is trying to be set on a copy of a slice from a DataFrame\n",
      "\n",
      "See the caveats in the documentation: https://pandas.pydata.org/pandas-docs/stable/user_guide/indexing.html#returning-a-view-versus-a-copy\n",
      "  df_model['VEHICLE TYPE CODE 1'][mask_vct1] = 'Other'\n"
     ]
    },
    {
     "data": {
      "text/plain": [
       "Sedan                                  28672\n",
       "Station Wagon/Sport Utility Vehicle    20302\n",
       "Taxi                                    4519\n",
       "Pick-up Truck                           1731\n",
       "Box Truck                               1476\n",
       "Bus                                     1317\n",
       "Other                                    921\n",
       "Bike                                     647\n",
       "Van                                      554\n",
       "Tractor Truck Diesel                     387\n",
       "Motorcycle                               270\n",
       "Dump                                     242\n",
       "Convertible                              167\n",
       "Flat Bed                                 130\n",
       "PK                                       129\n",
       "Garbage or Refuse                        126\n",
       "Ambulance                                124\n",
       "Carry All                                110\n",
       "E-Bike                                   109\n",
       "Name: VEHICLE TYPE CODE 1, dtype: int64"
      ]
     },
     "execution_count": 124,
     "metadata": {},
     "output_type": "execute_result"
    }
   ],
   "source": [
    "#Creating a list of the values of the different types of vehicle type codes\n",
    "counts_vct1 = df_model['VEHICLE TYPE CODE 1'].value_counts()\n",
    "\n",
    "#making a mask to store all the vehicle type codes which have an occurrence in the dataset less than 100 in one list and creating a\n",
    "#new vehicle type code for them called others\n",
    "mask_vct1 = df_model['VEHICLE TYPE CODE 1'].isin(counts_vct1[counts_vct1<100].index)\n",
    "df_model['VEHICLE TYPE CODE 1'][mask_vct1] = 'Other'\n",
    "\n",
    "df_model['VEHICLE TYPE CODE 1'].value_counts()"
   ]
  },
  {
   "cell_type": "code",
   "execution_count": 125,
   "metadata": {
    "colab": {
     "base_uri": "https://localhost:8080/"
    },
    "id": "jEx5KZU7DJLM",
    "outputId": "b3a6d36e-9813-4c19-827b-ffe286b52b52"
   },
   "outputs": [
    {
     "data": {
      "text/plain": [
       "270"
      ]
     },
     "execution_count": 125,
     "metadata": {},
     "output_type": "execute_result"
    }
   ],
   "source": [
    "df_model['VEHICLE TYPE CODE 2'].nunique()"
   ]
  },
  {
   "cell_type": "code",
   "execution_count": 126,
   "metadata": {
    "colab": {
     "base_uri": "https://localhost:8080/"
    },
    "id": "q3Umrm_P-dTj",
    "outputId": "f02013b8-d673-4dcc-e2c3-d35061729ff0"
   },
   "outputs": [
    {
     "name": "stderr",
     "output_type": "stream",
     "text": [
      "C:\\Users\\Anamay Deshpande\\AppData\\Local\\Temp\\ipykernel_144332\\4046024623.py:7: SettingWithCopyWarning: \n",
      "A value is trying to be set on a copy of a slice from a DataFrame\n",
      "\n",
      "See the caveats in the documentation: https://pandas.pydata.org/pandas-docs/stable/user_guide/indexing.html#returning-a-view-versus-a-copy\n",
      "  df_model['VEHICLE TYPE CODE 2'][mask_vct2] = 'Other'\n"
     ]
    },
    {
     "data": {
      "text/plain": [
       "Sedan                                  26621\n",
       "Station Wagon/Sport Utility Vehicle    18569\n",
       "Taxi                                    4099\n",
       "Bike                                    2956\n",
       "Pick-up Truck                           1857\n",
       "Box Truck                               1828\n",
       "Bus                                     1373\n",
       "Other                                   1212\n",
       "Van                                      580\n",
       "Motorcycle                               489\n",
       "E-Bike                                   472\n",
       "Tractor Truck Diesel                     458\n",
       "E-Scooter                                311\n",
       "Dump                                     285\n",
       "Flat Bed                                 157\n",
       "Convertible                              150\n",
       "PK                                       138\n",
       "Garbage or Refuse                        133\n",
       "Carry All                                128\n",
       "Moped                                    117\n",
       "Name: VEHICLE TYPE CODE 2, dtype: int64"
      ]
     },
     "execution_count": 126,
     "metadata": {},
     "output_type": "execute_result"
    }
   ],
   "source": [
    "#Creating a list of the values of the different types of vehicle type codes\n",
    "counts_vct2 = df_model['VEHICLE TYPE CODE 2'].value_counts()\n",
    "\n",
    "#making a mask to store all the vehicle type codes which have an occurrence in the dataset less than 100 in one list and creating a\n",
    "#new vehicle type code for them called others\n",
    "mask_vct2 = df_model['VEHICLE TYPE CODE 2'].isin(counts_vct2[counts_vct2<100].index)\n",
    "df_model['VEHICLE TYPE CODE 2'][mask_vct2] = 'Other'\n",
    "\n",
    "df_model['VEHICLE TYPE CODE 2'].value_counts()"
   ]
  },
  {
   "cell_type": "code",
   "execution_count": 127,
   "metadata": {
    "id": "YDnObmsxHGK4"
   },
   "outputs": [],
   "source": [
    "#Performing label encoding on the column to convert the categorical data to numerical values\n",
    "df_model['VEHICLE TYPE CODE 2']=le.fit_transform(df_model['VEHICLE TYPE CODE 2'])"
   ]
  },
  {
   "cell_type": "code",
   "execution_count": 128,
   "metadata": {
    "id": "HRBEMbGEHGOi"
   },
   "outputs": [],
   "source": [
    "df_model['VEHICLE TYPE CODE 1']=le.fit_transform(df_model['VEHICLE TYPE CODE 1'])"
   ]
  },
  {
   "cell_type": "code",
   "execution_count": 129,
   "metadata": {
    "id": "5FdLjpN7HGSx"
   },
   "outputs": [],
   "source": [
    "df_model['CONTRIBUTING FACTOR VEHICLE 2']=le.fit_transform(df_model['CONTRIBUTING FACTOR VEHICLE 2'])"
   ]
  },
  {
   "cell_type": "code",
   "execution_count": 130,
   "metadata": {
    "id": "LkG_97ltHGX4"
   },
   "outputs": [],
   "source": [
    "df_model['CONTRIBUTING FACTOR VEHICLE 1']=le.fit_transform(df_model['CONTRIBUTING FACTOR VEHICLE 1'])"
   ]
  },
  {
   "cell_type": "code",
   "execution_count": 131,
   "metadata": {
    "id": "VLrZubRoHd0p"
   },
   "outputs": [],
   "source": [
    "#df_model['BOROUGH']=le.fit_transform(df_model['BOROUGH'])\n",
    "dict_bor = {'BROOKLYN':0, 'QUEENS':1, 'MANHATTAN':2, 'BRONX':3, 'STATEN ISLAND':4}\n",
    "df_model['BOROUGH'].replace(dict_bor, inplace=True)"
   ]
  },
  {
   "cell_type": "code",
   "execution_count": 132,
   "metadata": {
    "colab": {
     "base_uri": "https://localhost:8080/",
     "height": 322
    },
    "id": "VUXWCcNJHGnN",
    "outputId": "adc547cb-9ecf-426d-d6eb-4ad913c8599b"
   },
   "outputs": [
    {
     "data": {
      "text/html": [
       "<div>\n",
       "<style scoped>\n",
       "    .dataframe tbody tr th:only-of-type {\n",
       "        vertical-align: middle;\n",
       "    }\n",
       "\n",
       "    .dataframe tbody tr th {\n",
       "        vertical-align: top;\n",
       "    }\n",
       "\n",
       "    .dataframe thead th {\n",
       "        text-align: right;\n",
       "    }\n",
       "</style>\n",
       "<table border=\"1\" class=\"dataframe\">\n",
       "  <thead>\n",
       "    <tr style=\"text-align: right;\">\n",
       "      <th></th>\n",
       "      <th>s_Autumn</th>\n",
       "      <th>s_Spring</th>\n",
       "      <th>s_Summer</th>\n",
       "      <th>s_Winter</th>\n",
       "      <th>CRASH TIME</th>\n",
       "      <th>VEHICLE TYPE CODE 1</th>\n",
       "      <th>VEHICLE TYPE CODE 2</th>\n",
       "      <th>CONTRIBUTING FACTOR VEHICLE 1</th>\n",
       "      <th>CONTRIBUTING FACTOR VEHICLE 2</th>\n",
       "      <th>NUMBER OF PERSONS KILLED</th>\n",
       "      <th>NUMBER OF PERSONS INJURED</th>\n",
       "      <th>NUMBER OF PEDESTRIANS KILLED</th>\n",
       "      <th>NUMBER OF PEDESTRIANS INJURED</th>\n",
       "      <th>BOROUGH</th>\n",
       "    </tr>\n",
       "  </thead>\n",
       "  <tbody>\n",
       "    <tr>\n",
       "      <th>970841</th>\n",
       "      <td>0</td>\n",
       "      <td>1</td>\n",
       "      <td>0</td>\n",
       "      <td>0</td>\n",
       "      <td>18:40</td>\n",
       "      <td>11</td>\n",
       "      <td>12</td>\n",
       "      <td>31</td>\n",
       "      <td>31</td>\n",
       "      <td>0.0</td>\n",
       "      <td>0.0</td>\n",
       "      <td>0</td>\n",
       "      <td>0</td>\n",
       "      <td>2</td>\n",
       "    </tr>\n",
       "    <tr>\n",
       "      <th>970144</th>\n",
       "      <td>0</td>\n",
       "      <td>1</td>\n",
       "      <td>0</td>\n",
       "      <td>0</td>\n",
       "      <td>10:45</td>\n",
       "      <td>11</td>\n",
       "      <td>12</td>\n",
       "      <td>27</td>\n",
       "      <td>27</td>\n",
       "      <td>0.0</td>\n",
       "      <td>1.0</td>\n",
       "      <td>0</td>\n",
       "      <td>0</td>\n",
       "      <td>1</td>\n",
       "    </tr>\n",
       "    <tr>\n",
       "      <th>1046492</th>\n",
       "      <td>0</td>\n",
       "      <td>0</td>\n",
       "      <td>1</td>\n",
       "      <td>0</td>\n",
       "      <td>00:00</td>\n",
       "      <td>14</td>\n",
       "      <td>16</td>\n",
       "      <td>13</td>\n",
       "      <td>17</td>\n",
       "      <td>0.0</td>\n",
       "      <td>0.0</td>\n",
       "      <td>0</td>\n",
       "      <td>0</td>\n",
       "      <td>0</td>\n",
       "    </tr>\n",
       "    <tr>\n",
       "      <th>1040412</th>\n",
       "      <td>0</td>\n",
       "      <td>0</td>\n",
       "      <td>1</td>\n",
       "      <td>0</td>\n",
       "      <td>10:20</td>\n",
       "      <td>14</td>\n",
       "      <td>15</td>\n",
       "      <td>8</td>\n",
       "      <td>8</td>\n",
       "      <td>0.0</td>\n",
       "      <td>0.0</td>\n",
       "      <td>0</td>\n",
       "      <td>0</td>\n",
       "      <td>3</td>\n",
       "    </tr>\n",
       "    <tr>\n",
       "      <th>1041111</th>\n",
       "      <td>0</td>\n",
       "      <td>0</td>\n",
       "      <td>1</td>\n",
       "      <td>0</td>\n",
       "      <td>00:03</td>\n",
       "      <td>14</td>\n",
       "      <td>17</td>\n",
       "      <td>38</td>\n",
       "      <td>17</td>\n",
       "      <td>0.0</td>\n",
       "      <td>0.0</td>\n",
       "      <td>0</td>\n",
       "      <td>0</td>\n",
       "      <td>1</td>\n",
       "    </tr>\n",
       "  </tbody>\n",
       "</table>\n",
       "</div>"
      ],
      "text/plain": [
       "         s_Autumn  s_Spring  s_Summer  s_Winter CRASH TIME  \\\n",
       "970841          0         1         0         0      18:40   \n",
       "970144          0         1         0         0      10:45   \n",
       "1046492         0         0         1         0      00:00   \n",
       "1040412         0         0         1         0      10:20   \n",
       "1041111         0         0         1         0      00:03   \n",
       "\n",
       "         VEHICLE TYPE CODE 1  VEHICLE TYPE CODE 2  \\\n",
       "970841                    11                   12   \n",
       "970144                    11                   12   \n",
       "1046492                   14                   16   \n",
       "1040412                   14                   15   \n",
       "1041111                   14                   17   \n",
       "\n",
       "         CONTRIBUTING FACTOR VEHICLE 1  CONTRIBUTING FACTOR VEHICLE 2  \\\n",
       "970841                              31                             31   \n",
       "970144                              27                             27   \n",
       "1046492                             13                             17   \n",
       "1040412                              8                              8   \n",
       "1041111                             38                             17   \n",
       "\n",
       "         NUMBER OF PERSONS KILLED  NUMBER OF PERSONS INJURED  \\\n",
       "970841                        0.0                        0.0   \n",
       "970144                        0.0                        1.0   \n",
       "1046492                       0.0                        0.0   \n",
       "1040412                       0.0                        0.0   \n",
       "1041111                       0.0                        0.0   \n",
       "\n",
       "         NUMBER OF PEDESTRIANS KILLED  NUMBER OF PEDESTRIANS INJURED  BOROUGH  \n",
       "970841                              0                              0        2  \n",
       "970144                              0                              0        1  \n",
       "1046492                             0                              0        0  \n",
       "1040412                             0                              0        3  \n",
       "1041111                             0                              0        1  "
      ]
     },
     "execution_count": 132,
     "metadata": {},
     "output_type": "execute_result"
    }
   ],
   "source": [
    "df_model.head()"
   ]
  },
  {
   "cell_type": "code",
   "execution_count": 133,
   "metadata": {
    "colab": {
     "base_uri": "https://localhost:8080/"
    },
    "id": "79K46I-U7Zmx",
    "outputId": "2ecdddda-3bd7-4c03-f0d2-5c677a03d9b4"
   },
   "outputs": [
    {
     "data": {
      "text/plain": [
       "s_Autumn                          uint8\n",
       "s_Spring                          uint8\n",
       "s_Summer                          uint8\n",
       "s_Winter                          uint8\n",
       "CRASH TIME                       object\n",
       "VEHICLE TYPE CODE 1               int32\n",
       "VEHICLE TYPE CODE 2               int32\n",
       "CONTRIBUTING FACTOR VEHICLE 1     int32\n",
       "CONTRIBUTING FACTOR VEHICLE 2     int32\n",
       "NUMBER OF PERSONS KILLED          int64\n",
       "NUMBER OF PERSONS INJURED         int64\n",
       "NUMBER OF PEDESTRIANS KILLED      int64\n",
       "NUMBER OF PEDESTRIANS INJURED     int64\n",
       "BOROUGH                           int64\n",
       "dtype: object"
      ]
     },
     "execution_count": 133,
     "metadata": {},
     "output_type": "execute_result"
    }
   ],
   "source": [
    "#Converting the below columns to integer data type\n",
    "df_model['NUMBER OF PERSONS KILLED'] = df_model['NUMBER OF PERSONS KILLED'].apply(np.int64)\n",
    "df_model['NUMBER OF PERSONS INJURED'] = df_model['NUMBER OF PERSONS INJURED'].apply(np.int64)\n",
    "df_model['BOROUGH'] = df_model['BOROUGH'].apply(np.int64)\n",
    "\n",
    "df_model.dtypes"
   ]
  },
  {
   "cell_type": "code",
   "execution_count": 134,
   "metadata": {
    "colab": {
     "base_uri": "https://localhost:8080/",
     "height": 322
    },
    "id": "t9YVgRuLK_MZ",
    "outputId": "43be2f2a-7cdc-4329-bc0d-66396322b4e9"
   },
   "outputs": [
    {
     "data": {
      "text/html": [
       "<div>\n",
       "<style scoped>\n",
       "    .dataframe tbody tr th:only-of-type {\n",
       "        vertical-align: middle;\n",
       "    }\n",
       "\n",
       "    .dataframe tbody tr th {\n",
       "        vertical-align: top;\n",
       "    }\n",
       "\n",
       "    .dataframe thead th {\n",
       "        text-align: right;\n",
       "    }\n",
       "</style>\n",
       "<table border=\"1\" class=\"dataframe\">\n",
       "  <thead>\n",
       "    <tr style=\"text-align: right;\">\n",
       "      <th></th>\n",
       "      <th>s_Autumn</th>\n",
       "      <th>s_Spring</th>\n",
       "      <th>s_Summer</th>\n",
       "      <th>s_Winter</th>\n",
       "      <th>CRASH TIME</th>\n",
       "      <th>VEHICLE TYPE CODE 1</th>\n",
       "      <th>VEHICLE TYPE CODE 2</th>\n",
       "      <th>CONTRIBUTING FACTOR VEHICLE 1</th>\n",
       "      <th>CONTRIBUTING FACTOR VEHICLE 2</th>\n",
       "      <th>NUMBER OF PERSONS KILLED</th>\n",
       "      <th>NUMBER OF PERSONS INJURED</th>\n",
       "      <th>NUMBER OF PEDESTRIANS KILLED</th>\n",
       "      <th>NUMBER OF PEDESTRIANS INJURED</th>\n",
       "      <th>BOROUGH</th>\n",
       "    </tr>\n",
       "  </thead>\n",
       "  <tbody>\n",
       "    <tr>\n",
       "      <th>970841</th>\n",
       "      <td>0</td>\n",
       "      <td>1</td>\n",
       "      <td>0</td>\n",
       "      <td>0</td>\n",
       "      <td>18</td>\n",
       "      <td>11</td>\n",
       "      <td>12</td>\n",
       "      <td>31</td>\n",
       "      <td>31</td>\n",
       "      <td>0</td>\n",
       "      <td>0</td>\n",
       "      <td>0</td>\n",
       "      <td>0</td>\n",
       "      <td>2</td>\n",
       "    </tr>\n",
       "    <tr>\n",
       "      <th>970144</th>\n",
       "      <td>0</td>\n",
       "      <td>1</td>\n",
       "      <td>0</td>\n",
       "      <td>0</td>\n",
       "      <td>10</td>\n",
       "      <td>11</td>\n",
       "      <td>12</td>\n",
       "      <td>27</td>\n",
       "      <td>27</td>\n",
       "      <td>0</td>\n",
       "      <td>1</td>\n",
       "      <td>0</td>\n",
       "      <td>0</td>\n",
       "      <td>1</td>\n",
       "    </tr>\n",
       "    <tr>\n",
       "      <th>1046492</th>\n",
       "      <td>0</td>\n",
       "      <td>0</td>\n",
       "      <td>1</td>\n",
       "      <td>0</td>\n",
       "      <td>00</td>\n",
       "      <td>14</td>\n",
       "      <td>16</td>\n",
       "      <td>13</td>\n",
       "      <td>17</td>\n",
       "      <td>0</td>\n",
       "      <td>0</td>\n",
       "      <td>0</td>\n",
       "      <td>0</td>\n",
       "      <td>0</td>\n",
       "    </tr>\n",
       "    <tr>\n",
       "      <th>1040412</th>\n",
       "      <td>0</td>\n",
       "      <td>0</td>\n",
       "      <td>1</td>\n",
       "      <td>0</td>\n",
       "      <td>10</td>\n",
       "      <td>14</td>\n",
       "      <td>15</td>\n",
       "      <td>8</td>\n",
       "      <td>8</td>\n",
       "      <td>0</td>\n",
       "      <td>0</td>\n",
       "      <td>0</td>\n",
       "      <td>0</td>\n",
       "      <td>3</td>\n",
       "    </tr>\n",
       "    <tr>\n",
       "      <th>1041111</th>\n",
       "      <td>0</td>\n",
       "      <td>0</td>\n",
       "      <td>1</td>\n",
       "      <td>0</td>\n",
       "      <td>00</td>\n",
       "      <td>14</td>\n",
       "      <td>17</td>\n",
       "      <td>38</td>\n",
       "      <td>17</td>\n",
       "      <td>0</td>\n",
       "      <td>0</td>\n",
       "      <td>0</td>\n",
       "      <td>0</td>\n",
       "      <td>1</td>\n",
       "    </tr>\n",
       "  </tbody>\n",
       "</table>\n",
       "</div>"
      ],
      "text/plain": [
       "         s_Autumn  s_Spring  s_Summer  s_Winter CRASH TIME  \\\n",
       "970841          0         1         0         0         18   \n",
       "970144          0         1         0         0         10   \n",
       "1046492         0         0         1         0         00   \n",
       "1040412         0         0         1         0         10   \n",
       "1041111         0         0         1         0         00   \n",
       "\n",
       "         VEHICLE TYPE CODE 1  VEHICLE TYPE CODE 2  \\\n",
       "970841                    11                   12   \n",
       "970144                    11                   12   \n",
       "1046492                   14                   16   \n",
       "1040412                   14                   15   \n",
       "1041111                   14                   17   \n",
       "\n",
       "         CONTRIBUTING FACTOR VEHICLE 1  CONTRIBUTING FACTOR VEHICLE 2  \\\n",
       "970841                              31                             31   \n",
       "970144                              27                             27   \n",
       "1046492                             13                             17   \n",
       "1040412                              8                              8   \n",
       "1041111                             38                             17   \n",
       "\n",
       "         NUMBER OF PERSONS KILLED  NUMBER OF PERSONS INJURED  \\\n",
       "970841                          0                          0   \n",
       "970144                          0                          1   \n",
       "1046492                         0                          0   \n",
       "1040412                         0                          0   \n",
       "1041111                         0                          0   \n",
       "\n",
       "         NUMBER OF PEDESTRIANS KILLED  NUMBER OF PEDESTRIANS INJURED  BOROUGH  \n",
       "970841                              0                              0        2  \n",
       "970144                              0                              0        1  \n",
       "1046492                             0                              0        0  \n",
       "1040412                             0                              0        3  \n",
       "1041111                             0                              0        1  "
      ]
     },
     "execution_count": 134,
     "metadata": {},
     "output_type": "execute_result"
    }
   ],
   "source": [
    "#Extracting the hour component of the crash time column so it is a numerical categorical value\n",
    "df_model['CRASH TIME'] = df_model['CRASH TIME'].str.slice(0, 2)\n",
    "df_model.head()"
   ]
  },
  {
   "cell_type": "code",
   "execution_count": 135,
   "metadata": {
    "colab": {
     "base_uri": "https://localhost:8080/"
    },
    "id": "lbf9waA8K_P9",
    "outputId": "b3b913bd-61d3-46d0-ca71-7d4d9908ec4c"
   },
   "outputs": [
    {
     "data": {
      "text/plain": [
       "s_Autumn                         uint8\n",
       "s_Spring                         uint8\n",
       "s_Summer                         uint8\n",
       "s_Winter                         uint8\n",
       "CRASH TIME                       int64\n",
       "VEHICLE TYPE CODE 1              int32\n",
       "VEHICLE TYPE CODE 2              int32\n",
       "CONTRIBUTING FACTOR VEHICLE 1    int32\n",
       "CONTRIBUTING FACTOR VEHICLE 2    int32\n",
       "NUMBER OF PERSONS KILLED         int64\n",
       "NUMBER OF PERSONS INJURED        int64\n",
       "NUMBER OF PEDESTRIANS KILLED     int64\n",
       "NUMBER OF PEDESTRIANS INJURED    int64\n",
       "BOROUGH                          int64\n",
       "dtype: object"
      ]
     },
     "execution_count": 135,
     "metadata": {},
     "output_type": "execute_result"
    }
   ],
   "source": [
    "df_model['CRASH TIME'] = df_model['CRASH TIME'].apply(np.int64)\n",
    "df_model.dtypes"
   ]
  },
  {
   "cell_type": "markdown",
   "metadata": {
    "id": "uhRwKvw3j24Z"
   },
   "source": [
    "**Evaluating Model**"
   ]
  },
  {
   "cell_type": "code",
   "execution_count": 136,
   "metadata": {
    "colab": {
     "base_uri": "https://localhost:8080/"
    },
    "id": "a4Z3o-GQ1vlU",
    "outputId": "aff18657-9152-4051-e359-f207f9bb46a2"
   },
   "outputs": [],
   "source": [
    "#Split the dataset into features and target variables\n",
    "X = df_model.iloc[:,:-1]\n",
    "y = df_model.iloc[:,-1]"
   ]
  },
  {
   "cell_type": "code",
   "execution_count": 137,
   "metadata": {
    "id": "PXdmhXyW1vqr"
   },
   "outputs": [],
   "source": [
    "#Perform train test split with 80% training set and 20% test set\n",
    "X_train, X_test, y_train, y_test = train_test_split(X, y, test_size=0.2, random_state=1)"
   ]
  },
  {
   "cell_type": "code",
   "execution_count": 138,
   "metadata": {
    "id": "60mTpQRN1vyr"
   },
   "outputs": [],
   "source": [
    "#Load the decision tree classifier\n",
    "clf_dt = DecisionTreeClassifier()\n",
    "\n",
    "# Train Decision Tree Classifer\n",
    "clf_dt = clf_dt.fit(X_train,y_train)\n",
    "\n",
    "#Predict the response for test dataset\n",
    "y_pred_dt = clf_dt.predict(X_test)"
   ]
  },
  {
   "cell_type": "code",
   "execution_count": 139,
   "metadata": {
    "colab": {
     "base_uri": "https://localhost:8080/"
    },
    "id": "tVTg60Ay1v1L",
    "outputId": "c555caf8-f8e1-42b3-e134-4c328ccf6cbe"
   },
   "outputs": [
    {
     "name": "stdout",
     "output_type": "stream",
     "text": [
      "Accuracy: 34.052 %\n"
     ]
    }
   ],
   "source": [
    "#Print the accuracy of the Decision Tree model prediction\n",
    "print(\"Accuracy:\",round(metrics.accuracy_score(y_test, y_pred_dt)*100,3),\"%\")"
   ]
  },
  {
   "cell_type": "code",
   "execution_count": 140,
   "metadata": {
    "id": "1HFRj1Uk3VDY"
   },
   "outputs": [],
   "source": [
    "#Load, train and predict random forest classifier\n",
    "\n",
    "clf_rf = RandomForestClassifier(n_estimators= 10, criterion=\"entropy\")  \n",
    "clf_rf.fit(X_train, y_train)  \n",
    "y_pred_rf = clf_rf.predict(X_test)  "
   ]
  },
  {
   "cell_type": "code",
   "execution_count": 141,
   "metadata": {
    "colab": {
     "base_uri": "https://localhost:8080/"
    },
    "id": "9ZhZKEcD3VMs",
    "outputId": "9bba33f4-7556-48ea-897f-e8432e9a4cf5"
   },
   "outputs": [
    {
     "name": "stdout",
     "output_type": "stream",
     "text": [
      "Accuracy: 35.65 %\n"
     ]
    }
   ],
   "source": [
    "#Print the accuracy of the Random Forest model prediction\n",
    "print(\"Accuracy:\",round(metrics.accuracy_score(y_test, y_pred_rf)*100,3),\"%\")"
   ]
  },
  {
   "cell_type": "code",
   "execution_count": 142,
   "metadata": {
    "id": "rPkQR8sl1v3f"
   },
   "outputs": [],
   "source": [
    "#Load, train and predict XGBoost classifier\n",
    "\n",
    "clf_xgb = XGBClassifier()\n",
    "clf_xgb.fit(X_train, y_train)\n",
    "y_pred_xgb = clf_xgb.predict(X_test)"
   ]
  },
  {
   "cell_type": "code",
   "execution_count": 143,
   "metadata": {
    "colab": {
     "base_uri": "https://localhost:8080/"
    },
    "id": "PXoTsQ0x4Rm0",
    "outputId": "df7577f5-0631-402d-adb6-149f4f8435bc"
   },
   "outputs": [
    {
     "name": "stdout",
     "output_type": "stream",
     "text": [
      "Accuracy: 40.623 %\n"
     ]
    }
   ],
   "source": [
    "#Print the accuracy of the XGBoost model prediction\n",
    "print(\"Accuracy:\",round(metrics.accuracy_score(y_test, y_pred_xgb)*100,3),\"%\")"
   ]
  },
  {
   "cell_type": "code",
   "execution_count": 144,
   "metadata": {
    "id": "S2NYS9x74RyM"
   },
   "outputs": [],
   "source": [
    "#Load, train and predict the KNN classifier\n",
    "\n",
    "clf_knn = KNeighborsClassifier(n_neighbors=5)\n",
    "clf_knn.fit(X_train, y_train)\n",
    "y_pred_knn = clf_knn.predict(X_test)"
   ]
  },
  {
   "cell_type": "code",
   "execution_count": 145,
   "metadata": {
    "colab": {
     "base_uri": "https://localhost:8080/"
    },
    "id": "FF3mZS314R01",
    "outputId": "65dc0f5f-d391-4c43-9514-1ab1e154639d"
   },
   "outputs": [
    {
     "name": "stdout",
     "output_type": "stream",
     "text": [
      "Accuracy: 34.552 %\n"
     ]
    }
   ],
   "source": [
    "#Print the accuracy of the KNN model prediction\n",
    "print(\"Accuracy:\",round(metrics.accuracy_score(y_test, y_pred_knn)*100,3),\"%\")"
   ]
  },
  {
   "cell_type": "code",
   "execution_count": 150,
   "metadata": {
    "id": "ovz6QDez4SWc"
   },
   "outputs": [],
   "source": [
    "import seaborn as sns\n",
    "import matplotlib.pyplot as plt\n",
    "from sklearn.metrics import confusion_matrix"
   ]
  },
  {
   "cell_type": "code",
   "execution_count": 156,
   "metadata": {},
   "outputs": [],
   "source": [
    "#Creating the confusion matrices for the XGBoost and KNN models\n",
    "cm_xgb = confusion_matrix(y_test, y_pred_xgb)\n",
    "cm_knn = confusion_matrix(y_test, y_pred_knn)"
   ]
  },
  {
   "cell_type": "code",
   "execution_count": 162,
   "metadata": {},
   "outputs": [],
   "source": [
    "#Plotting the confusion matrix by creating a function\n",
    "def plot_conf_matrix(cm_model):\n",
    "    cm_df_model = pd.DataFrame(cm_model,\n",
    "                     index = ['BROOKLYN', 'QUEENS', 'MANHATTAN', 'BRONX', 'STATEN ISLAND'], \n",
    "                     columns = ['BROOKLYN', 'QUEENS', 'MANHATTAN', 'BRONX', 'STATEN ISLAND'])\n",
    "    plt.figure(figsize=(7,6))\n",
    "    sns.heatmap(cm_df_model, annot=True, fmt='d')\n",
    "    plt.title('Confusion Matrix')\n",
    "    plt.ylabel('Actal Values')\n",
    "    plt.xlabel('Predicted Values')\n",
    "    plt.show()"
   ]
  },
  {
   "cell_type": "code",
   "execution_count": 163,
   "metadata": {},
   "outputs": [
    {
     "data": {
      "image/png": "[encoded data removed]",
      "text/plain": [
       "<Figure size 504x432 with 2 Axes>"
      ]
     },
     "metadata": {
      "needs_background": "light"
     },
     "output_type": "display_data"
    }
   ],
   "source": [
    "plot_conf_matrix(cm_knn)"
   ]
  },
  {
   "cell_type": "code",
   "execution_count": 164,
   "metadata": {},
   "outputs": [
    {
     "data": {
      "image/png": "[encoded data removed]",
      "text/plain": [
       "<Figure size 504x432 with 2 Axes>"
      ]
     },
     "metadata": {
      "needs_background": "light"
     },
     "output_type": "display_data"
    }
   ],
   "source": [
    "plot_conf_matrix(cm_xgb)"
   ]
  },
  {
   "cell_type": "code",
   "execution_count": 166,
   "metadata": {},
   "outputs": [
    {
     "name": "stdout",
     "output_type": "stream",
     "text": [
      "              precision    recall  f1-score   support\n",
      "\n",
      "           0      0.309     0.223     0.259      3177\n",
      "           1      0.366     0.578     0.448      3190\n",
      "           2      0.532     0.574     0.552      3743\n",
      "           3      0.330     0.171     0.226      1949\n",
      "           4      0.000     0.000     0.000       328\n",
      "\n",
      "    accuracy                          0.406     12387\n",
      "   macro avg      0.307     0.309     0.297     12387\n",
      "weighted avg      0.386     0.406     0.384     12387\n",
      "\n"
     ]
    }
   ],
   "source": [
    "print(metrics.classification_report(y_test, y_pred_xgb, digits=3))"
   ]
  },
  {
   "cell_type": "code",
   "execution_count": 167,
   "metadata": {
    "scrolled": true
   },
   "outputs": [
    {
     "name": "stdout",
     "output_type": "stream",
     "text": [
      "              precision    recall  f1-score   support\n",
      "\n",
      "           0      0.287     0.378     0.326      3177\n",
      "           1      0.332     0.385     0.357      3190\n",
      "           2      0.462     0.424     0.442      3743\n",
      "           3      0.254     0.133     0.175      1949\n",
      "           4      0.058     0.009     0.016       328\n",
      "\n",
      "    accuracy                          0.346     12387\n",
      "   macro avg      0.279     0.266     0.263     12387\n",
      "weighted avg      0.340     0.346     0.337     12387\n",
      "\n"
     ]
    }
   ],
   "source": [
    "print(metrics.classification_report(y_test, y_pred_, digits=3))"
   ]
  },
  {
   "cell_type": "code",
   "execution_count": null,
   "metadata": {},
   "outputs": [],
   "source": []
  },
  {
   "cell_type": "code",
   "execution_count": null,
   "metadata": {},
   "outputs": [],
   "source": []
  },
  {
   "cell_type": "code",
   "execution_count": 146,
   "metadata": {
    "id": "gLjnR1cnDLFr"
   },
   "outputs": [],
   "source": [
    "#df_trial = df4"
   ]
  },
  {
   "cell_type": "code",
   "execution_count": 147,
   "metadata": {
    "id": "fmchj9cnEKwV"
   },
   "outputs": [],
   "source": [
    "#injured_per_borough = df_trial.groupby(['BOROUGH']).agg({'NUMBER OF PERSONS INJURED':sum})\n",
    "#injured_per_borough"
   ]
  },
  {
   "cell_type": "code",
   "execution_count": 148,
   "metadata": {
    "id": "U_9j6v4kFdJC"
   },
   "outputs": [],
   "source": [
    "#no_of_days = df_trial['CRASH DATE'].nunique()\n",
    "#no_of_days"
   ]
  },
  {
   "cell_type": "code",
   "execution_count": 149,
   "metadata": {
    "id": "2PicRR1pGHhy"
   },
   "outputs": [],
   "source": [
    "#type(injured_per_borough)"
   ]
  }
 ],
 "metadata": {
  "colab": {
   "provenance": []
  },
  "kernelspec": {
   "display_name": "Python 3 (ipykernel)",
   "language": "python",
   "name": "python3"
  },
  "language_info": {
   "codemirror_mode": {
    "name": "ipython",
    "version": 3
   },
   "file_extension": ".py",
   "mimetype": "text/x-python",
   "name": "python",
   "nbconvert_exporter": "python",
   "pygments_lexer": "ipython3",
   "version": "3.9.12"
  }
 },
 "nbformat": 4,
 "nbformat_minor": 1
}
